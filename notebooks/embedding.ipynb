{
 "cells": [
  {
   "cell_type": "code",
   "execution_count": 1,
   "metadata": {},
   "outputs": [
    {
     "name": "stdout",
     "output_type": "stream",
     "text": [
      "output_path =  ../output/figures\n",
      "plt = single_column_plt_params(plt)\n",
      "plt = double_column_plt_params(plt)\n"
     ]
    }
   ],
   "source": [
    "import numpy as np\n",
    "import matplotlib as mpl\n",
    "import matplotlib.pyplot as plt\n",
    "import time\n",
    "import json\n",
    "import pandas as pd\n",
    "import sys\n",
    "from tqdm import tqdm_notebook as tqdm\n",
    "import copy\n",
    "import os.path as osp\n",
    "%run ./plot_functions.ipynb\n",
    "sys.path.insert(0, '../src/')\n"
   ]
  },
  {
   "cell_type": "code",
   "execution_count": 2,
   "metadata": {},
   "outputs": [],
   "source": [
    "from benchmark_utilities import benchmark_pnml, cat_benchmark_df\n",
    "from baseline_utilities import odin_df_densnet_cifar10, odin_df_densnet_cifar100, odin_df_resnet_cifar10, odin_df_resnet_cifar100\n",
    "from baseline_utilities import lvo_df_densnet_cifar10, lvo_df_densnet_cifar100, lvo_df_resnet_cifar10, lvo_df_resnet_cifar100\n",
    "plt = single_column_plt_params(plt)\n"
   ]
  },
  {
   "cell_type": "code",
   "execution_count": 3,
   "metadata": {},
   "outputs": [],
   "source": [
    "base_dir = osp.join('..', 'output', 'embedding')\n",
    "ood_name_benchmark_list = ['Imagenet (crop)',\n",
    "                           'Imagenet (resize)',\n",
    "                           'LSUN (crop)',\n",
    "                           'LSUN (resize)',\n",
    "                           'iSUN', 'Uniform',\n",
    "                           'Gaussian']\n"
   ]
  },
  {
   "cell_type": "markdown",
   "metadata": {},
   "source": [
    "## Densnet CIFAR100"
   ]
  },
  {
   "cell_type": "code",
   "execution_count": 4,
   "metadata": {},
   "outputs": [
    {
     "name": "stdout",
     "output_type": "stream",
     "text": [
      "benchmark_pnml. model_name=DensNet-BC CIFAR100\n",
      "Imagenet (crop)\n"
     ]
    },
    {
     "name": "stderr",
     "output_type": "stream",
     "text": [
      "100%|██████████| 2887/2887 [04:50<00:00,  9.95it/s]\n"
     ]
    },
    {
     "name": "stdout",
     "output_type": "stream",
     "text": [
      "Imagenet (resize)\n"
     ]
    },
    {
     "name": "stderr",
     "output_type": "stream",
     "text": [
      "100%|██████████| 2459/2459 [00:10<00:00, 235.97it/s]\n"
     ]
    },
    {
     "name": "stdout",
     "output_type": "stream",
     "text": [
      "LSUN (crop)\n"
     ]
    },
    {
     "name": "stderr",
     "output_type": "stream",
     "text": [
      "100%|██████████| 2621/2621 [00:17<00:00, 152.71it/s]\n"
     ]
    },
    {
     "name": "stdout",
     "output_type": "stream",
     "text": [
      "LSUN (resize)\n"
     ]
    },
    {
     "name": "stderr",
     "output_type": "stream",
     "text": [
      "100%|██████████| 2328/2328 [00:02<00:00, 1039.19it/s]\n",
      "  0%|          | 0/2349 [00:00<?, ?it/s]"
     ]
    },
    {
     "name": "stdout",
     "output_type": "stream",
     "text": [
      "iSUN\n"
     ]
    },
    {
     "name": "stderr",
     "output_type": "stream",
     "text": [
      "100%|██████████| 2349/2349 [00:01<00:00, 1241.34it/s]\n"
     ]
    },
    {
     "name": "stdout",
     "output_type": "stream",
     "text": [
      "Uniform\n"
     ]
    },
    {
     "name": "stderr",
     "output_type": "stream",
     "text": [
      "100%|██████████| 2161/2161 [00:00<00:00, 3505.80it/s]\n",
      "100%|██████████| 2158/2158 [00:00<00:00, 539474.79it/s]"
     ]
    },
    {
     "name": "stdout",
     "output_type": "stream",
     "text": [
      "Gaussian\n"
     ]
    },
    {
     "name": "stderr",
     "output_type": "stream",
     "text": [
      "\n"
     ]
    },
    {
     "data": {
      "text/html": [
       "<div>\n",
       "<style scoped>\n",
       "    .dataframe tbody tr th:only-of-type {\n",
       "        vertical-align: middle;\n",
       "    }\n",
       "\n",
       "    .dataframe tbody tr th {\n",
       "        vertical-align: top;\n",
       "    }\n",
       "\n",
       "    .dataframe thead th {\n",
       "        text-align: right;\n",
       "    }\n",
       "</style>\n",
       "<table border=\"1\" class=\"dataframe\">\n",
       "  <thead>\n",
       "    <tr style=\"text-align: right;\">\n",
       "      <th></th>\n",
       "      <th>Model</th>\n",
       "      <th>OOD Datasets</th>\n",
       "      <th>Method</th>\n",
       "      <th>FPR (95% TPR) ↓</th>\n",
       "      <th>Detection Error ↓</th>\n",
       "      <th>AUROC ↑</th>\n",
       "      <th>AP-In ↑</th>\n",
       "      <th>AP-Out ↑</th>\n",
       "    </tr>\n",
       "  </thead>\n",
       "  <tbody>\n",
       "    <tr>\n",
       "      <th>0</th>\n",
       "      <td>DensNet-BC CIFAR100</td>\n",
       "      <td>Imagenet (crop)</td>\n",
       "      <td>pNML</td>\n",
       "      <td>63.000000</td>\n",
       "      <td>34.000000</td>\n",
       "      <td>88.404830</td>\n",
       "      <td>90.569093</td>\n",
       "      <td>84.260377</td>\n",
       "    </tr>\n",
       "    <tr>\n",
       "      <th>1</th>\n",
       "      <td>DensNet-BC CIFAR100</td>\n",
       "      <td>Imagenet (resize)</td>\n",
       "      <td>pNML</td>\n",
       "      <td>14.990000</td>\n",
       "      <td>9.995000</td>\n",
       "      <td>97.142526</td>\n",
       "      <td>97.389129</td>\n",
       "      <td>96.824443</td>\n",
       "    </tr>\n",
       "    <tr>\n",
       "      <th>2</th>\n",
       "      <td>DensNet-BC CIFAR100</td>\n",
       "      <td>LSUN (crop)</td>\n",
       "      <td>pNML</td>\n",
       "      <td>65.680000</td>\n",
       "      <td>35.340000</td>\n",
       "      <td>85.562111</td>\n",
       "      <td>87.279766</td>\n",
       "      <td>82.087952</td>\n",
       "    </tr>\n",
       "    <tr>\n",
       "      <th>3</th>\n",
       "      <td>DensNet-BC CIFAR100</td>\n",
       "      <td>LSUN (resize)</td>\n",
       "      <td>pNML</td>\n",
       "      <td>10.900000</td>\n",
       "      <td>7.950000</td>\n",
       "      <td>97.792803</td>\n",
       "      <td>98.134696</td>\n",
       "      <td>97.195153</td>\n",
       "    </tr>\n",
       "    <tr>\n",
       "      <th>4</th>\n",
       "      <td>DensNet-BC CIFAR100</td>\n",
       "      <td>iSUN</td>\n",
       "      <td>pNML</td>\n",
       "      <td>10.633053</td>\n",
       "      <td>7.816527</td>\n",
       "      <td>97.791386</td>\n",
       "      <td>97.981297</td>\n",
       "      <td>97.482305</td>\n",
       "    </tr>\n",
       "    <tr>\n",
       "      <th>5</th>\n",
       "      <td>DensNet-BC CIFAR100</td>\n",
       "      <td>Uniform</td>\n",
       "      <td>pNML</td>\n",
       "      <td>0.000000</td>\n",
       "      <td>2.500000</td>\n",
       "      <td>100.000000</td>\n",
       "      <td>100.000000</td>\n",
       "      <td>100.000000</td>\n",
       "    </tr>\n",
       "    <tr>\n",
       "      <th>6</th>\n",
       "      <td>DensNet-BC CIFAR100</td>\n",
       "      <td>Gaussian</td>\n",
       "      <td>pNML</td>\n",
       "      <td>0.000000</td>\n",
       "      <td>2.500000</td>\n",
       "      <td>100.000000</td>\n",
       "      <td>100.000000</td>\n",
       "      <td>100.000000</td>\n",
       "    </tr>\n",
       "  </tbody>\n",
       "</table>\n",
       "</div>"
      ],
      "text/plain": [
       "                 Model       OOD Datasets Method  FPR (95% TPR) ↓  \\\n",
       "0  DensNet-BC CIFAR100    Imagenet (crop)   pNML        63.000000   \n",
       "1  DensNet-BC CIFAR100  Imagenet (resize)   pNML        14.990000   \n",
       "2  DensNet-BC CIFAR100        LSUN (crop)   pNML        65.680000   \n",
       "3  DensNet-BC CIFAR100      LSUN (resize)   pNML        10.900000   \n",
       "4  DensNet-BC CIFAR100               iSUN   pNML        10.633053   \n",
       "5  DensNet-BC CIFAR100            Uniform   pNML         0.000000   \n",
       "6  DensNet-BC CIFAR100           Gaussian   pNML         0.000000   \n",
       "\n",
       "   Detection Error ↓     AUROC ↑     AP-In ↑    AP-Out ↑  \n",
       "0          34.000000   88.404830   90.569093   84.260377  \n",
       "1           9.995000   97.142526   97.389129   96.824443  \n",
       "2          35.340000   85.562111   87.279766   82.087952  \n",
       "3           7.950000   97.792803   98.134696   97.195153  \n",
       "4           7.816527   97.791386   97.981297   97.482305  \n",
       "5           2.500000  100.000000  100.000000  100.000000  \n",
       "6           2.500000  100.000000  100.000000  100.000000  "
      ]
     },
     "execution_count": 4,
     "metadata": {},
     "output_type": "execute_result"
    }
   ],
   "source": [
    "pnml_df_densnet_cifar100, results_densnet_cifar100_dict = benchmark_pnml(ood_name_benchmark_list,\n",
    "                                                                         'DensNet-BC CIFAR100',\n",
    "                                                                         base_dir)\n",
    "pnml_df_densnet_cifar100\n"
   ]
  },
  {
   "cell_type": "code",
   "execution_count": 5,
   "metadata": {},
   "outputs": [
    {
     "data": {
      "text/html": [
       "<div>\n",
       "<style scoped>\n",
       "    .dataframe tbody tr th:only-of-type {\n",
       "        vertical-align: middle;\n",
       "    }\n",
       "\n",
       "    .dataframe tbody tr th {\n",
       "        vertical-align: top;\n",
       "    }\n",
       "\n",
       "    .dataframe thead th {\n",
       "        text-align: right;\n",
       "    }\n",
       "</style>\n",
       "<table border=\"1\" class=\"dataframe\">\n",
       "  <thead>\n",
       "    <tr style=\"text-align: right;\">\n",
       "      <th></th>\n",
       "      <th>Model</th>\n",
       "      <th>OOD Datasets</th>\n",
       "      <th>Method</th>\n",
       "      <th>FPR (95% TPR) ↓</th>\n",
       "      <th>Detection Error ↓</th>\n",
       "      <th>AUROC ↑</th>\n",
       "      <th>AP-In ↑</th>\n",
       "      <th>AP-Out ↑</th>\n",
       "    </tr>\n",
       "  </thead>\n",
       "  <tbody>\n",
       "    <tr>\n",
       "      <th>0</th>\n",
       "      <td>DensNet-BC CIFAR100</td>\n",
       "      <td>Imagenet (crop)</td>\n",
       "      <td>ODIN</td>\n",
       "      <td>17.3</td>\n",
       "      <td>11.2</td>\n",
       "      <td>97.1</td>\n",
       "      <td>97.4</td>\n",
       "      <td>96.8</td>\n",
       "    </tr>\n",
       "    <tr>\n",
       "      <th>0</th>\n",
       "      <td>DensNet-BC CIFAR100</td>\n",
       "      <td>Imagenet (crop)</td>\n",
       "      <td>LOO</td>\n",
       "      <td>8.3</td>\n",
       "      <td>6.3</td>\n",
       "      <td>98.4</td>\n",
       "      <td>98.6</td>\n",
       "      <td>98.3</td>\n",
       "    </tr>\n",
       "    <tr>\n",
       "      <th>0</th>\n",
       "      <td>DensNet-BC CIFAR100</td>\n",
       "      <td>Imagenet (crop)</td>\n",
       "      <td>pNML</td>\n",
       "      <td>63.0</td>\n",
       "      <td>34.0</td>\n",
       "      <td>88.4</td>\n",
       "      <td>90.6</td>\n",
       "      <td>84.3</td>\n",
       "    </tr>\n",
       "    <tr>\n",
       "      <th>1</th>\n",
       "      <td>DensNet-BC CIFAR100</td>\n",
       "      <td>Imagenet (resize)</td>\n",
       "      <td>ODIN</td>\n",
       "      <td>44.3</td>\n",
       "      <td>24.6</td>\n",
       "      <td>90.7</td>\n",
       "      <td>91.4</td>\n",
       "      <td>90.1</td>\n",
       "    </tr>\n",
       "    <tr>\n",
       "      <th>1</th>\n",
       "      <td>DensNet-BC CIFAR100</td>\n",
       "      <td>Imagenet (resize)</td>\n",
       "      <td>LOO</td>\n",
       "      <td>20.5</td>\n",
       "      <td>10.0</td>\n",
       "      <td>96.3</td>\n",
       "      <td>96.7</td>\n",
       "      <td>95.8</td>\n",
       "    </tr>\n",
       "    <tr>\n",
       "      <th>1</th>\n",
       "      <td>DensNet-BC CIFAR100</td>\n",
       "      <td>Imagenet (resize)</td>\n",
       "      <td>pNML</td>\n",
       "      <td>15.0</td>\n",
       "      <td>10.0</td>\n",
       "      <td>97.1</td>\n",
       "      <td>97.4</td>\n",
       "      <td>96.8</td>\n",
       "    </tr>\n",
       "    <tr>\n",
       "      <th>2</th>\n",
       "      <td>DensNet-BC CIFAR100</td>\n",
       "      <td>LSUN (crop)</td>\n",
       "      <td>ODIN</td>\n",
       "      <td>17.6</td>\n",
       "      <td>11.3</td>\n",
       "      <td>96.8</td>\n",
       "      <td>97.1</td>\n",
       "      <td>96.5</td>\n",
       "    </tr>\n",
       "    <tr>\n",
       "      <th>2</th>\n",
       "      <td>DensNet-BC CIFAR100</td>\n",
       "      <td>LSUN (crop)</td>\n",
       "      <td>LOO</td>\n",
       "      <td>14.7</td>\n",
       "      <td>8.5</td>\n",
       "      <td>97.4</td>\n",
       "      <td>97.6</td>\n",
       "      <td>97.2</td>\n",
       "    </tr>\n",
       "    <tr>\n",
       "      <th>2</th>\n",
       "      <td>DensNet-BC CIFAR100</td>\n",
       "      <td>LSUN (crop)</td>\n",
       "      <td>pNML</td>\n",
       "      <td>65.7</td>\n",
       "      <td>35.3</td>\n",
       "      <td>85.6</td>\n",
       "      <td>87.3</td>\n",
       "      <td>82.1</td>\n",
       "    </tr>\n",
       "    <tr>\n",
       "      <th>3</th>\n",
       "      <td>DensNet-BC CIFAR100</td>\n",
       "      <td>LSUN (resize)</td>\n",
       "      <td>ODIN</td>\n",
       "      <td>44.0</td>\n",
       "      <td>24.5</td>\n",
       "      <td>91.5</td>\n",
       "      <td>92.4</td>\n",
       "      <td>90.6</td>\n",
       "    </tr>\n",
       "    <tr>\n",
       "      <th>3</th>\n",
       "      <td>DensNet-BC CIFAR100</td>\n",
       "      <td>LSUN (resize)</td>\n",
       "      <td>LOO</td>\n",
       "      <td>16.2</td>\n",
       "      <td>8.8</td>\n",
       "      <td>97.0</td>\n",
       "      <td>97.4</td>\n",
       "      <td>96.6</td>\n",
       "    </tr>\n",
       "    <tr>\n",
       "      <th>3</th>\n",
       "      <td>DensNet-BC CIFAR100</td>\n",
       "      <td>LSUN (resize)</td>\n",
       "      <td>pNML</td>\n",
       "      <td>10.9</td>\n",
       "      <td>8.0</td>\n",
       "      <td>97.8</td>\n",
       "      <td>98.1</td>\n",
       "      <td>97.2</td>\n",
       "    </tr>\n",
       "    <tr>\n",
       "      <th>4</th>\n",
       "      <td>DensNet-BC CIFAR100</td>\n",
       "      <td>Uniform</td>\n",
       "      <td>ODIN</td>\n",
       "      <td>0.5</td>\n",
       "      <td>2.8</td>\n",
       "      <td>99.5</td>\n",
       "      <td>99.6</td>\n",
       "      <td>99.0</td>\n",
       "    </tr>\n",
       "    <tr>\n",
       "      <th>4</th>\n",
       "      <td>DensNet-BC CIFAR100</td>\n",
       "      <td>Uniform</td>\n",
       "      <td>LOO</td>\n",
       "      <td>79.7</td>\n",
       "      <td>9.5</td>\n",
       "      <td>92.0</td>\n",
       "      <td>94.8</td>\n",
       "      <td>83.8</td>\n",
       "    </tr>\n",
       "    <tr>\n",
       "      <th>4</th>\n",
       "      <td>DensNet-BC CIFAR100</td>\n",
       "      <td>Uniform</td>\n",
       "      <td>pNML</td>\n",
       "      <td>0.0</td>\n",
       "      <td>2.5</td>\n",
       "      <td>100.0</td>\n",
       "      <td>100.0</td>\n",
       "      <td>100.0</td>\n",
       "    </tr>\n",
       "    <tr>\n",
       "      <th>5</th>\n",
       "      <td>DensNet-BC CIFAR100</td>\n",
       "      <td>Gaussian</td>\n",
       "      <td>ODIN</td>\n",
       "      <td>0.2</td>\n",
       "      <td>2.6</td>\n",
       "      <td>99.6</td>\n",
       "      <td>99.7</td>\n",
       "      <td>99.1</td>\n",
       "    </tr>\n",
       "    <tr>\n",
       "      <th>5</th>\n",
       "      <td>DensNet-BC CIFAR100</td>\n",
       "      <td>Gaussian</td>\n",
       "      <td>LOO</td>\n",
       "      <td>38.5</td>\n",
       "      <td>8.2</td>\n",
       "      <td>94.9</td>\n",
       "      <td>96.4</td>\n",
       "      <td>90.0</td>\n",
       "    </tr>\n",
       "    <tr>\n",
       "      <th>5</th>\n",
       "      <td>DensNet-BC CIFAR100</td>\n",
       "      <td>Gaussian</td>\n",
       "      <td>pNML</td>\n",
       "      <td>0.0</td>\n",
       "      <td>2.5</td>\n",
       "      <td>100.0</td>\n",
       "      <td>100.0</td>\n",
       "      <td>100.0</td>\n",
       "    </tr>\n",
       "  </tbody>\n",
       "</table>\n",
       "</div>"
      ],
      "text/plain": [
       "                 Model       OOD Datasets Method  FPR (95% TPR) ↓  \\\n",
       "0  DensNet-BC CIFAR100    Imagenet (crop)   ODIN             17.3   \n",
       "0  DensNet-BC CIFAR100    Imagenet (crop)    LOO              8.3   \n",
       "0  DensNet-BC CIFAR100    Imagenet (crop)   pNML             63.0   \n",
       "1  DensNet-BC CIFAR100  Imagenet (resize)   ODIN             44.3   \n",
       "1  DensNet-BC CIFAR100  Imagenet (resize)    LOO             20.5   \n",
       "1  DensNet-BC CIFAR100  Imagenet (resize)   pNML             15.0   \n",
       "2  DensNet-BC CIFAR100        LSUN (crop)   ODIN             17.6   \n",
       "2  DensNet-BC CIFAR100        LSUN (crop)    LOO             14.7   \n",
       "2  DensNet-BC CIFAR100        LSUN (crop)   pNML             65.7   \n",
       "3  DensNet-BC CIFAR100      LSUN (resize)   ODIN             44.0   \n",
       "3  DensNet-BC CIFAR100      LSUN (resize)    LOO             16.2   \n",
       "3  DensNet-BC CIFAR100      LSUN (resize)   pNML             10.9   \n",
       "4  DensNet-BC CIFAR100            Uniform   ODIN              0.5   \n",
       "4  DensNet-BC CIFAR100            Uniform    LOO             79.7   \n",
       "4  DensNet-BC CIFAR100            Uniform   pNML              0.0   \n",
       "5  DensNet-BC CIFAR100           Gaussian   ODIN              0.2   \n",
       "5  DensNet-BC CIFAR100           Gaussian    LOO             38.5   \n",
       "5  DensNet-BC CIFAR100           Gaussian   pNML              0.0   \n",
       "\n",
       "   Detection Error ↓  AUROC ↑  AP-In ↑  AP-Out ↑  \n",
       "0               11.2     97.1     97.4      96.8  \n",
       "0                6.3     98.4     98.6      98.3  \n",
       "0               34.0     88.4     90.6      84.3  \n",
       "1               24.6     90.7     91.4      90.1  \n",
       "1               10.0     96.3     96.7      95.8  \n",
       "1               10.0     97.1     97.4      96.8  \n",
       "2               11.3     96.8     97.1      96.5  \n",
       "2                8.5     97.4     97.6      97.2  \n",
       "2               35.3     85.6     87.3      82.1  \n",
       "3               24.5     91.5     92.4      90.6  \n",
       "3                8.8     97.0     97.4      96.6  \n",
       "3                8.0     97.8     98.1      97.2  \n",
       "4                2.8     99.5     99.6      99.0  \n",
       "4                9.5     92.0     94.8      83.8  \n",
       "4                2.5    100.0    100.0     100.0  \n",
       "5                2.6     99.6     99.7      99.1  \n",
       "5                8.2     94.9     96.4      90.0  \n",
       "5                2.5    100.0    100.0     100.0  "
      ]
     },
     "execution_count": 5,
     "metadata": {},
     "output_type": "execute_result"
    }
   ],
   "source": [
    "result_densnet_cifar100 = cat_benchmark_df(odin_df_densnet_cifar100,\n",
    "                                           lvo_df_densnet_cifar100,\n",
    "                                           pnml_df_densnet_cifar100)\n",
    "result_densnet_cifar100\n"
   ]
  },
  {
   "cell_type": "markdown",
   "metadata": {},
   "source": [
    "## Densnet CIFAR10"
   ]
  },
  {
   "cell_type": "code",
   "execution_count": null,
   "metadata": {},
   "outputs": [
    {
     "name": "stderr",
     "output_type": "stream",
     "text": [
      "  0%|          | 0/45 [00:00<?, ?it/s]"
     ]
    },
    {
     "name": "stdout",
     "output_type": "stream",
     "text": [
      "benchmark_pnml. model_name=DensNet-BC CIFAR10\n",
      "Imagenet (crop)\n"
     ]
    },
    {
     "name": "stderr",
     "output_type": "stream",
     "text": [
      " 29%|██▉       | 13/45 [01:07<02:52,  5.40s/it]"
     ]
    }
   ],
   "source": [
    "pnml_df_densnet_cifar10, results_densnet_cifar10_dict = benchmark_pnml(ood_name_benchmark_list,\n",
    "                                                                       'DensNet-BC CIFAR10',\n",
    "                                                                       base_dir)\n",
    "pnml_df_densnet_cifar10\n"
   ]
  },
  {
   "cell_type": "code",
   "execution_count": null,
   "metadata": {},
   "outputs": [],
   "source": [
    "result_densnet_cifar10 = cat_benchmark_df(odin_df_densnet_cifar10,\n",
    "                                          lvo_df_densnet_cifar10,\n",
    "                                          pnml_df_densnet_cifar10)\n",
    "result_densnet_cifar10\n"
   ]
  },
  {
   "cell_type": "markdown",
   "metadata": {},
   "source": [
    "# Resnet CIFAR 10"
   ]
  },
  {
   "cell_type": "code",
   "execution_count": null,
   "metadata": {},
   "outputs": [],
   "source": [
    "pnml_df_resnet_cifar10, results_resnet_cifar10_dict = benchmark_pnml(ood_name_benchmark_list,\n",
    "                                                                     'WRN-28-10 CIFAR10',\n",
    "                                                                     base_dir)\n",
    "pnml_df_resnet_cifar10\n"
   ]
  },
  {
   "cell_type": "code",
   "execution_count": null,
   "metadata": {},
   "outputs": [],
   "source": [
    "result_resnet_cifar10 = cat_benchmark_df(odin_df_resnet_cifar10,\n",
    "                                         lvo_df_resnet_cifar10,\n",
    "                                         pnml_df_resnet_cifar10)\n",
    "result_resnet_cifar10\n"
   ]
  },
  {
   "cell_type": "markdown",
   "metadata": {},
   "source": [
    "# ResNet CIFAR100"
   ]
  },
  {
   "cell_type": "code",
   "execution_count": null,
   "metadata": {},
   "outputs": [],
   "source": [
    "pnml_df_resnet_cifar100, results_resnet_cifar100_dict = benchmark_pnml(ood_name_benchmark_list,\n",
    "                                                                       'WRN-28-10 CIFAR100',\n",
    "                                                                       base_dir)\n",
    "pnml_df_resnet_cifar100\n"
   ]
  },
  {
   "cell_type": "code",
   "execution_count": null,
   "metadata": {},
   "outputs": [],
   "source": [
    "result_resnet_cifar100 = cat_benchmark_df(odin_df_resnet_cifar100,\n",
    "                                          lvo_df_resnet_cifar100,\n",
    "                                          pnml_df_resnet_cifar100)\n",
    "\n",
    "result_resnet_cifar100\n"
   ]
  },
  {
   "cell_type": "markdown",
   "metadata": {},
   "source": [
    "# Summary"
   ]
  },
  {
   "cell_type": "code",
   "execution_count": null,
   "metadata": {},
   "outputs": [],
   "source": [
    "summary_df = pd.concat([result_densnet_cifar10,\n",
    "                        result_densnet_cifar100,\n",
    "                        result_resnet_cifar10,\n",
    "                        result_resnet_cifar100])  # .reset_index(drop=True)\n",
    "\n",
    "prev_row = summary_df.iloc[-1]['OOD Datasets']\n",
    "change_idx = []\n",
    "len_df = len(summary_df)\n",
    "for iloc_idx in range(len_df):\n",
    "\n",
    "    rev_idx = len_df - iloc_idx - 1\n",
    "    row = summary_df.iloc[rev_idx]\n",
    "    if row['OOD Datasets'] != prev_row:\n",
    "        empty_row = pd.Series(None, index=[rev_idx+1])\n",
    "        sbummary_df = pd.concat([summary_df.iloc[:rev_idx+1], empty_row,\n",
    "                                 summary_df.iloc[rev_idx+1:]]).reset_index(drop=True)\n",
    "    prev_row = row['OOD Datasets']\n",
    "summary_df.to_csv(osp.join('..', 'output', 'summary.csv'), index=False)\n"
   ]
  },
  {
   "cell_type": "markdown",
   "metadata": {},
   "source": [
    "# Visualize regret"
   ]
  },
  {
   "cell_type": "code",
   "execution_count": null,
   "metadata": {},
   "outputs": [],
   "source": [
    "def sigmoid(x, derivative=False):\n",
    "  return x*(1-x) if derivative else 1/(1+np.exp(-x))"
   ]
  },
  {
   "cell_type": "code",
   "execution_count": null,
   "metadata": {},
   "outputs": [],
   "source": [
    "ind_np = results_densnet_cifar100_dict['regret']['iSUN']['IND']\n",
    "ood_np = results_densnet_cifar100_dict['regret']['iSUN']['OOD']\n",
    "ind_inds = ind_np.argsort(axis=1)\n",
    "# ind_inds\n",
    "print(ind_np.shape)\n",
    "print(ind_inds.shape)\n",
    "m, n = ind_np.shape\n",
    "out = np.take_along_axis(ind_np, ind_inds.astype(int), 1)\n"
   ]
  },
  {
   "cell_type": "code",
   "execution_count": null,
   "metadata": {},
   "outputs": [],
   "source": [
    "fig = plt.figure()\n",
    "size = fig.get_size_inches()\n",
    "for ood_name in results_densnet_cifar100_dict['regret'].keys():\n",
    "    ind_np = results_densnet_cifar100_dict['regret'][ood_name]['IND']\n",
    "    ood_np = results_densnet_cifar100_dict['regret'][ood_name]['OOD']\n",
    "\n",
    "    ind_inds = ind_np.argsort(axis=1)\n",
    "    ood_inds = ood_np.argsort(axis=1)\n",
    "\n",
    "    ind_np = np.take_along_axis(ind_np, ind_inds.astype(int), 1)\n",
    "    ood_np = np.take_along_axis(ood_np, ood_inds.astype(int), 1)\n",
    "\n",
    "    ind_prob_np = results_densnet_cifar100_dict['prob'][ood_name]['IND']\n",
    "    ood_prob_np = results_densnet_cifar100_dict['prob'][ood_name]['OOD']\n",
    "    ind_prob_np = np.take_along_axis(\n",
    "        sigmoid(ind_prob_np), ind_inds.astype(int), 1)\n",
    "    ood_prob_np = np.take_along_axis(\n",
    "        sigmoid(ood_prob_np), ood_inds.astype(int), 1)\n",
    "\n",
    "\n",
    "    fig, axs = plt.subplots(1, 2, figsize=(2*size[0], size[1]))\n",
    "    axs[0].bar(np.arange(0, ind_np.shape[1]), np.mean(\n",
    "        ind_np, axis=0), alpha=0.8, label='In-Dist')\n",
    "    axs[0].bar(np.arange(0, ood_np.shape[1]), np.mean(\n",
    "        ood_np, axis=0), alpha=0.5, label='OOD')\n",
    "    axs[0].legend()\n",
    "    axs[0].set_title(ood_name)\n",
    "    axs[0].set_xlim(0, 10)\n",
    "\n",
    "    axs[1].bar(np.arange(0, ind_prob_np.shape[1]), np.mean(\n",
    "        ind_prob_np, axis=0), alpha=0.8, label='In-Dist')\n",
    "    axs[1].bar(np.arange(0, ood_prob_np.shape[1]), np.mean(\n",
    "        ood_prob_np, axis=0), alpha=0.5, label='OOD')\n",
    "    plt.legend()\n",
    "    plt.title(ood_name)\n",
    "    plt.xlim(0, 10)\n",
    "    plt.show()\n"
   ]
  },
  {
   "cell_type": "code",
   "execution_count": null,
   "metadata": {},
   "outputs": [],
   "source": [
    "fig = plt.figure()\n",
    "size = fig.get_size_inches()\n",
    "for ood_name in results_resnet_cifar100_dict['regret'].keys():\n",
    "    ind_np = results_resnet_cifar100_dict['regret'][ood_name]['IND']\n",
    "    ood_np = results_resnet_cifar100_dict['regret'][ood_name]['OOD']\n",
    "\n",
    "    ind_inds = ind_np.argsort(axis=1)\n",
    "    ood_inds = ood_np.argsort(axis=1)\n",
    "\n",
    "    ind_np = np.take_along_axis(ind_np, ind_inds.astype(int), 1)\n",
    "    ood_np = np.take_along_axis(ood_np, ood_inds.astype(int), 1)\n",
    "\n",
    "    ind_prob_np = results_resnet_cifar100_dict['prob'][ood_name]['IND']\n",
    "    ood_prob_np = results_resnet_cifar100_dict['prob'][ood_name]['OOD']\n",
    "    ind_prob_np = np.take_along_axis(\n",
    "        sigmoid(ind_prob_np), ind_inds.astype(int), 1)\n",
    "    ood_prob_np = np.take_along_axis(\n",
    "        sigmoid(ood_prob_np), ood_inds.astype(int), 1)\n",
    "\n",
    "    fig, axs = plt.subplots(1, 3, figsize=(3*size[0], size[1]))\n",
    "    axs[0].bar(np.arange(0, ind_np.shape[1]), np.mean(\n",
    "        ind_np, axis=0), alpha=0.8, label='In-Dist')\n",
    "    axs[0].bar(np.arange(0, ood_np.shape[1]), np.mean(\n",
    "        ood_np, axis=0), alpha=0.5, label='OOD')\n",
    "    axs[0].legend()\n",
    "    axs[0].set_title(ood_name)\n",
    "    axs[0].set_xlim(0, 20)\n",
    "\n",
    "    axs[1].bar(np.arange(0, ind_prob_np.shape[1]), np.mean(\n",
    "        ind_prob_np, axis=0), alpha=0.8, label='In-Dist')\n",
    "    axs[1].bar(np.arange(0, ood_prob_np.shape[1]), np.mean(\n",
    "        ood_prob_np, axis=0), alpha=0.5, label='OOD')\n",
    "\n",
    "    axs[2].bar(np.arange(0, ind_prob_np.shape[1]), np.mean(\n",
    "        ind_prob_np * 2 ** ind_np, axis=0), alpha=0.8, label='In-Dist')\n",
    "    axs[2].bar(np.arange(0, ood_prob_np.shape[1]), np.mean(\n",
    "        ood_prob_np* 2 ** ood_np, axis=0), alpha=0.5, label='OOD')\n",
    "    plt.title(ood_name)\n",
    "    plt.xlim(0, 20)\n",
    "    plt.show()\n"
   ]
  },
  {
   "cell_type": "markdown",
   "metadata": {},
   "source": [
    "## Deep dive pNML"
   ]
  },
  {
   "cell_type": "code",
   "execution_count": null,
   "metadata": {},
   "outputs": [],
   "source": [
    "from distributions_metrics import calc_performance_in_out_dist\n",
    "\n",
    "\n",
    "def compute_regret_deep_dive(x_m_train: np.ndarray, x_m_test: np.ndarray, lamb: float, u=None, eta=None, vh=None):\n",
    "    n = x_m_train.shape[1]\n",
    "    \n",
    "    # SVD decomposition\n",
    "    if u is None or eta is None or None or vh is None:\n",
    "        u, s, vh = np.linalg.svd(x_m_train)\n",
    "        eta = s ** 2\n",
    "\n",
    "        # pad to fit u\n",
    "        padded = np.zeros(u.shape[0])\n",
    "        padded[:eta.shape[0]] = eta\n",
    "        eta = padded\n",
    "\n",
    "        eta = eta[:, np.newaxis]\n",
    "\n",
    "    # Calc mean regret\n",
    "    x_t_u_2 = (x_m_test.T.dot(u)) ** 2\n",
    "    div = x_t_u_2 / (eta.T + lamb)\n",
    "    regret_list = np.log(1 + (1 / n) * div.sum(axis=1)).tolist()\n",
    "    return regret_list, u, eta, vh\n"
   ]
  },
  {
   "cell_type": "code",
   "execution_count": null,
   "metadata": {},
   "outputs": [],
   "source": [
    "pnml_dataset_input = resnet_cifar10_path_dict\n",
    "\n",
    "pnml_dataset = copy.deepcopy(pnml_dataset_input)\n",
    "\n",
    "# Get In-Distribution datasets\n",
    "trainset_path = pnml_dataset['trainset']\n",
    "train_labels_path = pnml_dataset['train_labels']\n",
    "testset_path = pnml_dataset['testset']\n",
    "trainset_all = np.load(trainset_path).T\n",
    "testset_ind = np.load(testset_path).T\n",
    "train_labels = np.load(train_labels_path)\n",
    "\n",
    "# Initialize performance dataframe output\n",
    "perf_df_list = []\n",
    "\n",
    "# Iterate over Out-Of-Distribution datasets\n",
    "ood_name = 'LSUN (resize)'\n",
    "npy_path = pnml_dataset[ood_name]\n",
    "\n",
    "\n",
    "print('pNML for {}'.format(ood_name))\n",
    "testset_ood = np.load(npy_path).T\n",
    "\n",
    "# testset_ind -= testset_ind.mean(axis=0)\n",
    "# testset_ood -= testset_ood.mean(axis=0)\n",
    "\n",
    "\n",
    "lamb = 0\n",
    "for lamb in [1, 1e-1, 1e-3, 1e-6, 1e-9, 1e-12, 1e-16, 1e-19]:\n",
    "    regret_ind_list_all = []\n",
    "    regret_ood_list_all = []\n",
    "    for class_num in tqdm(np.unique(train_labels)):\n",
    "        trainset = trainset_all[:, train_labels == class_num]\n",
    "    #     trainset -= trainset.mean(axis=0)\n",
    "\n",
    "        regret_ind_list, u, eta, vh = compute_regret_deep_dive(\n",
    "            trainset, testset_ind, lamb=lamb, u=None, eta=None, vh=None)\n",
    "        regret_ood_list, _, _, _ = compute_regret_deep_dive(\n",
    "            trainset, testset_ood, lamb=lamb, u=u, eta=eta, vh=vh)\n",
    "\n",
    "        regret_ind_list_all.append(regret_ind_list)\n",
    "        regret_ood_list_all.append(regret_ood_list)\n",
    "\n",
    "    regret_ind_np = np.asarray(regret_ind_list_all)\n",
    "    regret_ood_np = np.asarray(regret_ood_list_all)\n",
    "\n",
    "    regret_ind_min_list = np.min(regret_ind_np, axis=0).tolist()\n",
    "    regret_ood_min_list = np.min(regret_ood_np, axis=0).tolist()\n",
    "\n",
    "    assert isinstance(regret_ind_min_list, list)\n",
    "    assert isinstance(regret_ood_min_list, list)\n",
    "\n",
    "    y_score_ind = regret_ind_min_list + regret_ood_min_list\n",
    "    y_score_ind = 1 - np.array(y_score_ind)\n",
    "    y_true_ind = [True] * len(regret_ind_min_list) + \\\n",
    "        [False] * len(regret_ood_min_list)\n",
    "    performance = calc_performance_in_out_dist(y_true_ind, y_score_ind)\n",
    "    print('lamb: {} {}'.format(lamb, float(performance['AUROC ↑'])))\n"
   ]
  },
  {
   "cell_type": "code",
   "execution_count": null,
   "metadata": {},
   "outputs": [],
   "source": [
    "print('Vanilla')\n",
    "performance\n"
   ]
  },
  {
   "cell_type": "code",
   "execution_count": null,
   "metadata": {},
   "outputs": [],
   "source": [
    "x_m_train = trainset\n",
    "x_m_test = testset_ood[:, 0]\n",
    "u = u\n",
    "eta = eta\n",
    "vh = vh\n",
    "dim = dim\n",
    "lamb = lamb\n",
    "n = x_m_train.shape[1]\n",
    "\n",
    "# SVD decomposition\n",
    "if u is None or eta is None or None or vh is None:\n",
    "    u, s, vh = np.linalg.svd(x_m_train)\n",
    "    eta = s ** 2\n",
    "\n",
    "    # pad to fit u\n",
    "    padded = np.zeros(u.shape[0])\n",
    "    padded[:eta.shape[0]] = eta\n",
    "    eta = padded\n",
    "\n",
    "    eta = eta[:, np.newaxis]\n",
    "\n",
    "# Calc mean regret\n",
    "x_t_u_2_ood = (x_m_test.T.dot(u)) ** 2\n",
    "div_ood = x_t_u_2_ood / (eta.T + lamb)\n",
    "\n",
    "regret_ood_list = np.log(1 + (1 / n) * div_ood.sum(axis=1)\n",
    "                         ).tolist()  # div.sum(axis=1).tolist()\n"
   ]
  },
  {
   "cell_type": "code",
   "execution_count": null,
   "metadata": {},
   "outputs": [],
   "source": [
    "x_m_train = trainset\n",
    "x_m_test = testset_ind[:, 0]\n",
    "u = u\n",
    "eta = eta\n",
    "vh = vh\n",
    "dim = dim\n",
    "lamb = 0#lamb\n",
    "n = x_m_train.shape[1]\n",
    "\n",
    "# SVD decomposition\n",
    "if u is None or eta is None or None or vh is None:\n",
    "    u, s, vh = np.linalg.svd(x_m_train)\n",
    "    eta = s ** 2\n",
    "\n",
    "    # pad to fit u\n",
    "    padded = np.zeros(u.shape[0])\n",
    "    padded[:eta.shape[0]] = eta\n",
    "    eta = padded\n",
    "\n",
    "    eta = eta[:, np.newaxis]\n",
    "\n",
    "# Calc mean regret\n",
    "x_t_u_2_ind = (x_m_test.T.dot(u)) ** 2\n",
    "div_ind = x_t_u_2_ind / (eta.T + lamb)\n",
    "\n",
    "# div_ind[div_ind == np.inf] = 10e12\n",
    "# div_ind[div_ind==np.nan] = 10e12\n",
    "\n",
    "# np.log(1 + (1 / n) * div.sum(axis=1)).tolist()\n",
    "regret_ind_list = np.log(1 + (1 / n) * div_ind.sum(axis=1)).tolist() #div.sum(axis=1).tolist()\n"
   ]
  },
  {
   "cell_type": "code",
   "execution_count": null,
   "metadata": {},
   "outputs": [],
   "source": [
    "plt.plot(x_t_u_2_ind)\n",
    "plt.plot(x_t_u_2_ood)\n",
    "plt.yscale('symlog')\n",
    "plt.show()"
   ]
  },
  {
   "cell_type": "code",
   "execution_count": null,
   "metadata": {},
   "outputs": [],
   "source": [
    "_,bins,_ = plt.hist(regret_ind_min_list,label='In')#, range=(0,1))\n",
    "plt.hist(regret_ood_min_list,bins=bins,alpha=0.5,label='Out')\n",
    "plt.legend()\n",
    "plt.show()\n"
   ]
  },
  {
   "cell_type": "code",
   "execution_count": null,
   "metadata": {},
   "outputs": [],
   "source": []
  }
 ],
 "metadata": {
  "kernelspec": {
   "display_name": "Python 3",
   "language": "python",
   "name": "python3"
  },
  "language_info": {
   "codemirror_mode": {
    "name": "ipython",
    "version": 3
   },
   "file_extension": ".py",
   "mimetype": "text/x-python",
   "name": "python",
   "nbconvert_exporter": "python",
   "pygments_lexer": "ipython3",
   "version": "3.6.9"
  }
 },
 "nbformat": 4,
 "nbformat_minor": 4
}
