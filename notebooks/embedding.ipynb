{
 "cells": [
  {
   "cell_type": "code",
   "execution_count": 1,
   "metadata": {},
   "outputs": [
    {
     "name": "stdout",
     "output_type": "stream",
     "text": [
      "output_path =  ../output/figures\n",
      "plt = single_column_plt_params(plt)\n",
      "plt = double_column_plt_params(plt)\n"
     ]
    }
   ],
   "source": [
    "import numpy as np\n",
    "import matplotlib as mpl\n",
    "import matplotlib.pyplot as plt\n",
    "import time\n",
    "import json\n",
    "import pandas as pd\n",
    "import copy\n",
    "import sys\n",
    "from glob import glob\n",
    "from copy import deepcopy\n",
    "from tqdm import tqdm_notebook as tqdm\n",
    "%run ./plot_functions.ipynb\n",
    "sys.path.insert(0, '../src/')\n"
   ]
  },
  {
   "cell_type": "code",
   "execution_count": 2,
   "metadata": {},
   "outputs": [],
   "source": [
    "from analyze_utilities import *\n",
    "# from dataset_utilities import create_cifar10_dataloaders\n",
    "from distributions_metrics import *\n",
    "plt = single_column_plt_params(plt)\n"
   ]
  },
  {
   "cell_type": "markdown",
   "metadata": {},
   "source": [
    "# ODIN Baseline"
   ]
  },
  {
   "cell_type": "code",
   "execution_count": 3,
   "metadata": {},
   "outputs": [
    {
     "name": "stdout",
     "output_type": "stream",
     "text": [
      "\n",
      "ODIN:\n",
      "    AUROC   AP-In  AP-Out  KL Divergence  KL in P_lamb\n",
      "0  98.862  98.914  98.868          0.542         0.139\n"
     ]
    },
    {
     "data": {
      "image/png": "[encoded data removed]",
      "text/plain": [
       "<Figure size 460.8x316.8 with 1 Axes>"
      ]
     },
     "metadata": {},
     "output_type": "display_data"
    }
   ],
   "source": [
    "# ODIN baseline: with pNML fraemwork\n",
    "file_baseline_cifar10 = '../output/baseline_odin_densenet_cifar10_cifar10_20190926_184650/results_baseline_odin_densenet_cifar10_cifar10_20190926_184650.json'\n",
    "file_baseline_isun = '../output/baseline_odin_densenet_cifar10_isun_20190926_184648/results_baseline_odin_densenet_cifar10_isun_20190926_184648.json'\n",
    "\n",
    "with open(file_baseline_cifar10) as data_file:\n",
    "    ind_df = result_dict_to_erm_df(json.load(data_file), is_out_of_dist=True)\n",
    "ind_df = ind_df.add_prefix('erm_')\n",
    "ind_df.index = ind_df.index.astype(int)\n",
    "ind_df_odin = ind_df.sort_index()\n",
    "print()\n",
    "with open(file_baseline_isun) as data_file:\n",
    "    ood_df = result_dict_to_erm_df(json.load(data_file), is_out_of_dist=True)\n",
    "ood_df = ood_df.add_prefix('erm_')\n",
    "ood_df.index = ood_df.index.astype(int)\n",
    "ood_df_odin = ood_df.sort_index()\n",
    "\n",
    "# Baseline Max prob of ERM\n",
    "y_score_ind = ind_df_odin[['erm_' + str(x) for x in range(10)]].max(axis=1).tolist() + \\\n",
    "    ood_df_odin[['erm_' + str(x) for x in range(10)]].max(axis=1).tolist()\n",
    "y_true_ind = [True] * ind_df_odin.shape[0] + [False] * ood_df_odin.shape[0]\n",
    "baseline_performance = calc_performance_in_out_dist(y_true_ind, y_score_ind)\n",
    "\n",
    "y_score_ind = np.array(y_score_ind)\n",
    "y_true_ind = np.array(y_true_ind)\n",
    "\n",
    "print('ODIN:')\n",
    "print(baseline_performance.round(3))\n",
    "\n",
    "bins = 100\n",
    "min_r = np.min(y_score_ind)\n",
    "max_r = np.max(y_score_ind)\n",
    "_, bins, _ = plt.hist(y_score_ind[y_true_ind], range=[\n",
    "                      min_r, max_r], rwidth=0.8, bins=bins, label='InDist')\n",
    "plt.hist(y_score_ind[np.logical_not(y_true_ind)], rwidth=0.9,\n",
    "         alpha=0.5, bins=bins,  label='InDist')\n",
    "plt.title('ODIN Baseline')\n",
    "plt.legend()\n",
    "plt.show()\n"
   ]
  },
  {
   "cell_type": "markdown",
   "metadata": {},
   "source": [
    "# Linear regression"
   ]
  },
  {
   "cell_type": "code",
   "execution_count": 63,
   "metadata": {},
   "outputs": [],
   "source": [
    "def compute_regret(x_m_train: np.ndarray, x_m_test: np.ndarray, lamb: float):\n",
    "    n = x_m_train.shape[1]\n",
    "\n",
    "    # SVD decomposition\n",
    "    u, s, vh = np.linalg.svd(x_m_train)\n",
    "    eta = s ** 2\n",
    "    eta = eta[:, np.newaxis]\n",
    "\n",
    "    # Calc mean regret\n",
    "    x_t_u_2 = (x_m_test.T.dot(u)) ** 2\n",
    "    div = x_t_u_2 / \\\n",
    "        (eta +\n",
    "         lamb) if eta.shape[0] == x_t_u_2.shape[0] else x_t_u_2 / (eta.T + lamb)\n",
    "    regret_all = np.log(1 + (1 / n) * div.sum(axis=1))\n",
    "    return regret_all.tolist()\n",
    "#     return div.sum(axis=1).tolist()\n",
    "\n",
    "\n",
    "def plot_ood(regret_ind_list: list, regret_ood_list: list, dataset_name: str):\n",
    "    min_r = np.min(regret_ind_list+regret_ood_list)\n",
    "    max_r = np.max(regret_ind_list+regret_ood_list)\n",
    "    _, bins, _ = plt.hist(regret_ind_list, bins=100,  range=[min_r, max_r],\n",
    "                          label='InDist', rwidth=0.8)\n",
    "    plt.hist(regret_ood_list, bins=bins, alpha=0.5,\n",
    "             label='OutOfDist', rwidth=0.8)\n",
    "    plt.title(dataset_name)\n",
    "    plt.legend()\n",
    "    plt.yscale('symlog')\n",
    "    plt.show()\n",
    "\n",
    "\n",
    "def analyze_ind_ood_regret(trainset_all: np.ndarray, train_labels: np.ndarray, testset_ind: np.ndarray, testset_ood: np.ndarray):\n",
    "    regret_ind_list_all = []\n",
    "    regret_ood_list_all = []\n",
    "\n",
    "    for class_num in tqdm(np.unique(train_labels)):\n",
    "        trainset = trainset_all[:, train_labels == class_num]\n",
    "        regret_ind_list_all.append(compute_regret(\n",
    "            trainset, testset_ind, lamb=0))\n",
    "        regret_ood_list_all.append(compute_regret(\n",
    "            trainset, testset_ood, lamb=0))\n",
    "\n",
    "    regret_ind_np = np.asarray(regret_ind_list_all)\n",
    "    regret_ood_np = np.asarray(regret_ood_list_all)\n",
    "\n",
    "    regret_ind_list = regret_ind_np.min(axis=0).tolist()\n",
    "    regret_ood_list = regret_ood_np.min(axis=0).tolist()\n",
    "\n",
    "    y_score_ind = regret_ind_list + regret_ood_list\n",
    "    y_score_ind = 1 - np.array(y_score_ind)\n",
    "    y_true_ind = [True] * len(regret_ind_list) + [False] * len(regret_ood_list)\n",
    "    performance = calc_performance_in_out_dist(y_true_ind, y_score_ind)\n",
    "\n",
    "    return performance, regret_ind_list, regret_ood_list\n",
    "\n",
    "\n",
    "def analyze_ind_ood_max_prob(ind_max_prob: np.ndarray, out_dist_max_prob: np.ndarray):\n",
    "    ind_list = ind_max_prob.tolist()\n",
    "    ood_list = out_dist_max_prob.tolist()\n",
    "    y_score_ind = ind_max_prob.tolist() + out_dist_max_prob.tolist()\n",
    "    y_true_ind = [True] * len(ind_list) + [False] * len(ood_list)\n",
    "    performance = calc_performance_in_out_dist(y_true_ind, y_score_ind)\n",
    "\n",
    "    return performance, regret_ind_list, regret_ood_list\n"
   ]
  },
  {
   "cell_type": "markdown",
   "metadata": {},
   "source": [
    "## Densnet CIFAR100"
   ]
  },
  {
   "cell_type": "code",
   "execution_count": 70,
   "metadata": {},
   "outputs": [],
   "source": [
    "datasets = [('Imagenet (crop)', '../output/embeddings/densenet_cifar100_Imagenet_test.npy'),\n",
    "            ('Imagenet (resize)',\n",
    "             '../output/embeddings/densenet_cifar100_Imagenet_resize_test.npy'),\n",
    "            ('LSUN (crop)', '../output/embeddings/densenet_cifar100_LSUN_test.npy'),\n",
    "            ('LSUN (resize)', '../output/embeddings/densenet_cifar100_LSUN_resize_test.npy'),\n",
    "            ('iSUN', '../output/embeddings/densenet_cifar100_iSUN_test.npy')\n",
    "            ]\n",
    "\n",
    "datasets_baseline = [('Imagenet (crop)', '../output/embeddings/densenet_cifar100_Imagenet_test_odin_baseline_max_prob.npy'),\n",
    "                     ('Imagenet (resize)',\n",
    "                      '../output/embeddings/densenet_cifar100_Imagenet_resize_test_odin_baseline_max_prob.npy'),\n",
    "                     ('LSUN (crop)', '../output/embeddings/densenet_cifar100_LSUN_test_odin_baseline_max_prob.npy'),\n",
    "                     ('LSUN (resize)',\n",
    "                      '../output/embeddings/densenet_cifar100_LSUN_resize_test_odin_baseline_max_prob.npy'),\n",
    "                     ('iSUN', '../output/embeddings/densenet_cifar100_iSUN_test_odin_baseline_max_prob.npy')\n",
    "                     ]\n"
   ]
  },
  {
   "cell_type": "code",
   "execution_count": 71,
   "metadata": {},
   "outputs": [
    {
     "name": "stdout",
     "output_type": "stream",
     "text": [
      "Labels 100\n"
     ]
    },
    {
     "data": {
      "application/vnd.jupyter.widget-view+json": {
       "model_id": "c456c010e73548c2bb104c42c31e24f8",
       "version_major": 2,
       "version_minor": 0
      },
      "text/plain": [
       "HBox(children=(IntProgress(value=0), HTML(value='')))"
      ]
     },
     "metadata": {},
     "output_type": "display_data"
    },
    {
     "name": "stdout",
     "output_type": "stream",
     "text": [
      "\n",
      "                            AUROC      AP-In     AP-Out  KL Divergence  \\\n",
      "Imagenet (crop) regret  92.792096  92.247859  93.390634       1.527237   \n",
      "\n",
      "                        KL in P_lamb  \n",
      "Imagenet (crop) regret      0.412078  \n"
     ]
    },
    {
     "data": {
      "image/png": "[encoded data removed]",
      "text/plain": [
       "<Figure size 460.8x316.8 with 1 Axes>"
      ]
     },
     "metadata": {},
     "output_type": "display_data"
    },
    {
     "name": "stdout",
     "output_type": "stream",
     "text": [
      "                          AUROC     AP-In     AP-Out  KL Divergence  \\\n",
      "Imagenet (crop) odin  78.259101  76.13001  79.054012       0.440086   \n",
      "\n",
      "                      KL in P_lamb  \n",
      "Imagenet (crop) odin      0.098673  \n"
     ]
    },
    {
     "data": {
      "application/vnd.jupyter.widget-view+json": {
       "model_id": "5ec277085bc84c30883532b848e9faeb",
       "version_major": 2,
       "version_minor": 0
      },
      "text/plain": [
       "HBox(children=(IntProgress(value=0), HTML(value='')))"
      ]
     },
     "metadata": {},
     "output_type": "display_data"
    },
    {
     "name": "stdout",
     "output_type": "stream",
     "text": [
      "\n",
      "                             AUROC      AP-In     AP-Out  KL Divergence  \\\n",
      "Imagenet (resize) regret  96.65549  96.392131  96.933009       0.453706   \n",
      "\n",
      "                          KL in P_lamb  \n",
      "Imagenet (resize) regret      0.114758  \n"
     ]
    },
    {
     "data": {
      "image/png": "[encoded data removed]",
      "text/plain": [
       "<Figure size 460.8x316.8 with 1 Axes>"
      ]
     },
     "metadata": {},
     "output_type": "display_data"
    },
    {
     "name": "stdout",
     "output_type": "stream",
     "text": [
      "                            AUROC      AP-In     AP-Out  KL Divergence  \\\n",
      "Imagenet (resize) odin  60.272236  60.448779  58.561482       0.094439   \n",
      "\n",
      "                        KL in P_lamb  \n",
      "Imagenet (resize) odin       0.02271  \n"
     ]
    },
    {
     "data": {
      "application/vnd.jupyter.widget-view+json": {
       "model_id": "88d6f898bc3348bca8a030bc8f63fbff",
       "version_major": 2,
       "version_minor": 0
      },
      "text/plain": [
       "HBox(children=(IntProgress(value=0), HTML(value='')))"
      ]
     },
     "metadata": {},
     "output_type": "display_data"
    },
    {
     "name": "stdout",
     "output_type": "stream",
     "text": [
      "\n",
      "                        AUROC      AP-In     AP-Out  KL Divergence  \\\n",
      "LSUN (crop) regret  67.589978  69.331797  67.978143       2.557654   \n",
      "\n",
      "                    KL in P_lamb  \n",
      "LSUN (crop) regret      0.733107  \n"
     ]
    },
    {
     "data": {
      "image/png": "[encoded data removed]",
      "text/plain": [
       "<Figure size 460.8x316.8 with 1 Axes>"
      ]
     },
     "metadata": {},
     "output_type": "display_data"
    },
    {
     "name": "stdout",
     "output_type": "stream",
     "text": [
      "                      AUROC     AP-In     AP-Out  KL Divergence  KL in P_lamb\n",
      "LSUN (crop) odin  83.123607  80.55559  84.801575       0.466364      0.113811\n"
     ]
    },
    {
     "data": {
      "application/vnd.jupyter.widget-view+json": {
       "model_id": "7565aa0bb08f4dd7b2b13f845ff8c6c8",
       "version_major": 2,
       "version_minor": 0
      },
      "text/plain": [
       "HBox(children=(IntProgress(value=0), HTML(value='')))"
      ]
     },
     "metadata": {},
     "output_type": "display_data"
    },
    {
     "name": "stdout",
     "output_type": "stream",
     "text": [
      "\n",
      "                          AUROC      AP-In     AP-Out  KL Divergence  \\\n",
      "LSUN (resize) regret  97.855527  97.887643  97.789474       0.839897   \n",
      "\n",
      "                      KL in P_lamb  \n",
      "LSUN (resize) regret      0.218019  \n"
     ]
    },
    {
     "data": {
      "image/png": "[encoded data removed]",
      "text/plain": [
       "<Figure size 460.8x316.8 with 1 Axes>"
      ]
     },
     "metadata": {},
     "output_type": "display_data"
    },
    {
     "name": "stdout",
     "output_type": "stream",
     "text": [
      "                        AUROC      AP-In     AP-Out  KL Divergence  \\\n",
      "LSUN (resize) odin  60.356302  60.444971  59.179033       0.040347   \n",
      "\n",
      "                    KL in P_lamb  \n",
      "LSUN (resize) odin      0.009289  \n"
     ]
    },
    {
     "data": {
      "application/vnd.jupyter.widget-view+json": {
       "model_id": "fb58a22ee8b843328b2c4cec6d7c7fd2",
       "version_major": 2,
       "version_minor": 0
      },
      "text/plain": [
       "HBox(children=(IntProgress(value=0), HTML(value='')))"
      ]
     },
     "metadata": {},
     "output_type": "display_data"
    },
    {
     "name": "stdout",
     "output_type": "stream",
     "text": [
      "\n",
      "                 AUROC      AP-In     AP-Out  KL Divergence  KL in P_lamb\n",
      "iSUN regret  97.539469  97.483322  97.598131        0.61403      0.158898\n"
     ]
    },
    {
     "data": {
      "image/png": "[encoded data removed]",
      "text/plain": [
       "<Figure size 460.8x316.8 with 1 Axes>"
      ]
     },
     "metadata": {},
     "output_type": "display_data"
    },
    {
     "name": "stdout",
     "output_type": "stream",
     "text": [
      "               AUROC      AP-In     AP-Out  KL Divergence  KL in P_lamb\n",
      "iSUN odin  41.959968  44.443993  44.402754       0.093034      0.022129\n",
      "\n",
      "Densnet CIFAR100:\n",
      "                          AUROC  AP-In  AP-Out  KL Divergence  KL in P_lamb\n",
      "Imagenet (crop) regret    92.79  92.25   93.39           1.53          0.41\n",
      "Imagenet (crop) odin      78.26  76.13   79.05           0.44          0.10\n",
      "Imagenet (resize) regret  96.66  96.39   96.93           0.45          0.11\n",
      "Imagenet (resize) odin    60.27  60.45   58.56           0.09          0.02\n",
      "LSUN (crop) regret        67.59  69.33   67.98           2.56          0.73\n",
      "LSUN (crop) odin          83.12  80.56   84.80           0.47          0.11\n",
      "LSUN (resize) regret      97.86  97.89   97.79           0.84          0.22\n",
      "LSUN (resize) odin        60.36  60.44   59.18           0.04          0.01\n",
      "iSUN regret               97.54  97.48   97.60           0.61          0.16\n",
      "iSUN odin                 41.96  44.44   44.40           0.09          0.02\n"
     ]
    }
   ],
   "source": [
    "trainset_all = np.load(\n",
    "    '../output/embeddings/densenet_cifar100_cifar100_train.npy').T\n",
    "testset_ind = np.load(\n",
    "    '../output/embeddings/densenet_cifar100_cifar100_test.npy').T\n",
    "train_labels = np.load('../output/embeddings/cifar100_train_labels.npy')\n",
    "\n",
    "\n",
    "max_prob_ind = np.load(\n",
    "    '../output/embeddings/densenet_cifar100_cifar100_test_odin_baseline_max_prob.npy')\n",
    "\n",
    "print('Labels {}'.format(len(np.unique(train_labels))))\n",
    "performance_list = []\n",
    "for (name, npy_regret_path), (_, npy_max_prob_path) in zip(datasets, datasets_baseline):\n",
    "\n",
    "    # Regret\n",
    "    performance, regret_ind_list, regret_ood_list = analyze_ind_ood_regret(trainset_all, train_labels, testset_ind,\n",
    "                                                                           np.load(npy_regret_path).T)\n",
    "    performance = performance.rename(index={0: name + ' regret'})\n",
    "    print(performance)\n",
    "    plot_ood(regret_ind_list, regret_ood_list, name)\n",
    "    performance_list.append(performance)\n",
    "\n",
    "    performance, regret_ind_list, regret_ood_list = analyze_ind_ood_max_prob(\n",
    "        max_prob_ind, np.load(npy_max_prob_path))\n",
    "    performance = performance.rename(index={0: name + ' odin'})\n",
    "    print(performance)\n",
    "    performance_list.append(performance)\n",
    "\n",
    "\n",
    "result_cifar100 = pd.concat(performance_list)\n",
    "print()\n",
    "print('Densnet CIFAR100:')\n",
    "print(result_cifar100.round(2))\n"
   ]
  },
  {
   "cell_type": "markdown",
   "metadata": {},
   "source": [
    "## Densnet CIFAR10"
   ]
  },
  {
   "cell_type": "code",
   "execution_count": 6,
   "metadata": {},
   "outputs": [
    {
     "name": "stdout",
     "output_type": "stream",
     "text": [
      "Labels 10\n"
     ]
    },
    {
     "data": {
      "application/vnd.jupyter.widget-view+json": {
       "model_id": "ce622af5f8cb497a9a9cd0735ec63ac9",
       "version_major": 2,
       "version_minor": 0
      },
      "text/plain": [
       "HBox(children=(IntProgress(value=0, max=10), HTML(value='')))"
      ]
     },
     "metadata": {},
     "output_type": "display_data"
    },
    {
     "name": "stdout",
     "output_type": "stream",
     "text": [
      "\n",
      "                     AUROC      AP-In     AP-Out  KL Divergence  KL in P_lamb\n",
      "Imagenet (crop)  97.440749  97.405059  97.593876      11.736068      2.240547\n"
     ]
    },
    {
     "data": {
      "image/png": "[encoded data removed]",
      "text/plain": [
       "<Figure size 460.8x316.8 with 1 Axes>"
      ]
     },
     "metadata": {},
     "output_type": "display_data"
    },
    {
     "data": {
      "application/vnd.jupyter.widget-view+json": {
       "model_id": "a01e7872ecd44eb8bb89459e97b16e6d",
       "version_major": 2,
       "version_minor": 0
      },
      "text/plain": [
       "HBox(children=(IntProgress(value=0, max=10), HTML(value='')))"
      ]
     },
     "metadata": {},
     "output_type": "display_data"
    },
    {
     "name": "stdout",
     "output_type": "stream",
     "text": [
      "\n",
      "                       AUROC      AP-In     AP-Out  KL Divergence  \\\n",
      "Imagenet (resize)  96.688285  96.557273  96.818988      10.981363   \n",
      "\n",
      "                   KL in P_lamb  \n",
      "Imagenet (resize)       2.22725  \n"
     ]
    },
    {
     "data": {
      "image/png": "[encoded data removed]",
      "text/plain": [
       "<Figure size 460.8x316.8 with 1 Axes>"
      ]
     },
     "metadata": {},
     "output_type": "display_data"
    },
    {
     "data": {
      "application/vnd.jupyter.widget-view+json": {
       "model_id": "0592a7e779b2452d96165413538e064e",
       "version_major": 2,
       "version_minor": 0
      },
      "text/plain": [
       "HBox(children=(IntProgress(value=0, max=10), HTML(value='')))"
      ]
     },
     "metadata": {},
     "output_type": "display_data"
    },
    {
     "name": "stdout",
     "output_type": "stream",
     "text": [
      "\n",
      "                 AUROC      AP-In     AP-Out  KL Divergence  KL in P_lamb\n",
      "LSUN (crop)  94.315965  94.442337  94.475825       5.246784      1.715768\n"
     ]
    },
    {
     "data": {
      "image/png": "[encoded data removed]",
      "text/plain": [
       "<Figure size 460.8x316.8 with 1 Axes>"
      ]
     },
     "metadata": {},
     "output_type": "display_data"
    },
    {
     "data": {
      "application/vnd.jupyter.widget-view+json": {
       "model_id": "3c923d09b81340ebbe3f65fde89a6f03",
       "version_major": 2,
       "version_minor": 0
      },
      "text/plain": [
       "HBox(children=(IntProgress(value=0, max=10), HTML(value='')))"
      ]
     },
     "metadata": {},
     "output_type": "display_data"
    },
    {
     "name": "stdout",
     "output_type": "stream",
     "text": [
      "\n",
      "                   AUROC      AP-In     AP-Out  KL Divergence  KL in P_lamb\n",
      "LSUN (resize)  97.956123  98.073359  97.790891      13.260812      2.342996\n"
     ]
    },
    {
     "data": {
      "image/png": "[encoded data removed]",
      "text/plain": [
       "<Figure size 460.8x316.8 with 1 Axes>"
      ]
     },
     "metadata": {},
     "output_type": "display_data"
    },
    {
     "data": {
      "application/vnd.jupyter.widget-view+json": {
       "model_id": "9111cf0c3c6a488fab58805a874b05e5",
       "version_major": 2,
       "version_minor": 0
      },
      "text/plain": [
       "HBox(children=(IntProgress(value=0, max=10), HTML(value='')))"
      ]
     },
     "metadata": {},
     "output_type": "display_data"
    },
    {
     "name": "stdout",
     "output_type": "stream",
     "text": [
      "\n",
      "          AUROC      AP-In     AP-Out  KL Divergence  KL in P_lamb\n",
      "iSUN  97.571352  97.552784  97.533161       7.586345      1.828769\n"
     ]
    },
    {
     "data": {
      "image/png": "[encoded data removed]",
      "text/plain": [
       "<Figure size 460.8x316.8 with 1 Axes>"
      ]
     },
     "metadata": {},
     "output_type": "display_data"
    },
    {
     "name": "stdout",
     "output_type": "stream",
     "text": [
      "Densnet CIFAR10:\n",
      "                   AUROC  AP-In  AP-Out  KL Divergence  KL in P_lamb\n",
      "Imagenet (crop)    97.44  97.41   97.59          11.74          2.24\n",
      "Imagenet (resize)  96.69  96.56   96.82          10.98          2.23\n",
      "LSUN (crop)        94.32  94.44   94.48           5.25          1.72\n",
      "LSUN (resize)      97.96  98.07   97.79          13.26          2.34\n",
      "iSUN               97.57  97.55   97.53           7.59          1.83\n"
     ]
    }
   ],
   "source": [
    "trainset_all = np.load(\n",
    "    '../output/embeddings/densenet_cifar10_cifar10_train.npy').T\n",
    "testset_ind = np.load(\n",
    "    '../output/embeddings/densenet_cifar10_cifar10_test.npy').T\n",
    "train_labels = np.load('../output/embeddings/cifar10_train_labels.npy')\n",
    "\n",
    "\n",
    "datasets = [('Imagenet (crop)', '../output/embeddings/densenet_cifar10_Imagenet_test.npy'),\n",
    "            ('Imagenet (resize)',\n",
    "             '../output/embeddings/densenet_cifar10_Imagenet_resize_test.npy'),\n",
    "            ('LSUN (crop)', '../output/embeddings/densenet_cifar10_LSUN_test.npy'),\n",
    "            ('LSUN (resize)', '../output/embeddings/densenet_cifar10_LSUN_resize_test.npy'),\n",
    "            ('iSUN', '../output/embeddings/densenet_cifar10_iSUN_test.npy')\n",
    "            ]\n",
    "performance_list = []\n",
    "print('Labels {}'.format(len(np.unique(train_labels))))\n",
    "for (name, npy_path) in datasets:\n",
    "    performance, regret_ind_list, regret_ood_list = analyze_ind_ood(trainset_all, train_labels, testset_ind,\n",
    "                                                                    np.load(npy_path).T)\n",
    "    performance = performance.rename(index={0: name})\n",
    "    print(performance)\n",
    "    plot_ood(regret_ind_list, regret_ood_list, name)\n",
    "    performance_list.append(performance)\n",
    "result_cifar10 = pd.concat(performance_list)\n",
    "print('Densnet CIFAR10:')\n",
    "print(result_cifar10.round(2))\n"
   ]
  },
  {
   "cell_type": "markdown",
   "metadata": {},
   "source": [
    "## ODIN CIFAR100"
   ]
  },
  {
   "cell_type": "code",
   "execution_count": 10,
   "metadata": {},
   "outputs": [
    {
     "name": "stdout",
     "output_type": "stream",
     "text": [
      "Labels 100\n"
     ]
    },
    {
     "data": {
      "application/vnd.jupyter.widget-view+json": {
       "model_id": "f793b7d481f440cc9b31b3aa5a8de2ce",
       "version_major": 2,
       "version_minor": 0
      },
      "text/plain": [
       "HBox(children=(IntProgress(value=0), HTML(value='')))"
      ]
     },
     "metadata": {},
     "output_type": "display_data"
    },
    {
     "name": "stdout",
     "output_type": "stream",
     "text": [
      "\n",
      "                     AUROC      AP-In     AP-Out  KL Divergence  KL in P_lamb\n",
      "Imagenet (crop)  93.993196  94.004429  94.098686       1.732045      0.467169\n"
     ]
    },
    {
     "data": {
      "image/png": "[encoded data removed]",
      "text/plain": [
       "<Figure size 460.8x316.8 with 1 Axes>"
      ]
     },
     "metadata": {},
     "output_type": "display_data"
    },
    {
     "data": {
      "application/vnd.jupyter.widget-view+json": {
       "model_id": "8c58c962b0954e43bb75080e87e30f7b",
       "version_major": 2,
       "version_minor": 0
      },
      "text/plain": [
       "HBox(children=(IntProgress(value=0), HTML(value='')))"
      ]
     },
     "metadata": {},
     "output_type": "display_data"
    },
    {
     "name": "stdout",
     "output_type": "stream",
     "text": [
      "\n",
      "                       AUROC      AP-In     AP-Out  KL Divergence  \\\n",
      "Imagenet (resize)  96.536721  96.367235  96.750794       0.599147   \n",
      "\n",
      "                   KL in P_lamb  \n",
      "Imagenet (resize)      0.151583  \n"
     ]
    },
    {
     "data": {
      "image/png": "[encoded data removed]",
      "text/plain": [
       "<Figure size 460.8x316.8 with 1 Axes>"
      ]
     },
     "metadata": {},
     "output_type": "display_data"
    },
    {
     "data": {
      "application/vnd.jupyter.widget-view+json": {
       "model_id": "e9f85933c4e3487b958463a060b107c3",
       "version_major": 2,
       "version_minor": 0
      },
      "text/plain": [
       "HBox(children=(IntProgress(value=0), HTML(value='')))"
      ]
     },
     "metadata": {},
     "output_type": "display_data"
    },
    {
     "name": "stdout",
     "output_type": "stream",
     "text": [
      "\n",
      "                 AUROC      AP-In     AP-Out  KL Divergence  KL in P_lamb\n",
      "LSUN (crop)  80.533125  81.779367  79.065205       2.829066      0.777974\n"
     ]
    },
    {
     "data": {
      "image/png": "[encoded data removed]",
      "text/plain": [
       "<Figure size 460.8x316.8 with 1 Axes>"
      ]
     },
     "metadata": {},
     "output_type": "display_data"
    },
    {
     "data": {
      "application/vnd.jupyter.widget-view+json": {
       "model_id": "6537c66084544348a50d7421a2eff41f",
       "version_major": 2,
       "version_minor": 0
      },
      "text/plain": [
       "HBox(children=(IntProgress(value=0), HTML(value='')))"
      ]
     },
     "metadata": {},
     "output_type": "display_data"
    },
    {
     "name": "stdout",
     "output_type": "stream",
     "text": [
      "\n",
      "                   AUROC      AP-In     AP-Out  KL Divergence  KL in P_lamb\n",
      "LSUN (resize)  97.559119  97.662399  97.443815       0.926287      0.238288\n"
     ]
    },
    {
     "data": {
      "image/png": "[encoded data removed]",
      "text/plain": [
       "<Figure size 460.8x316.8 with 1 Axes>"
      ]
     },
     "metadata": {},
     "output_type": "display_data"
    },
    {
     "data": {
      "application/vnd.jupyter.widget-view+json": {
       "model_id": "cefcab0b10d446eca11f0d1501c769c8",
       "version_major": 2,
       "version_minor": 0
      },
      "text/plain": [
       "HBox(children=(IntProgress(value=0), HTML(value='')))"
      ]
     },
     "metadata": {},
     "output_type": "display_data"
    },
    {
     "name": "stdout",
     "output_type": "stream",
     "text": [
      "\n",
      "         AUROC      AP-In     AP-Out  KL Divergence  KL in P_lamb\n",
      "iSUN  97.36272  97.435745  97.359995       0.844603      0.217132\n"
     ]
    },
    {
     "data": {
      "image/png": "[encoded data removed]",
      "text/plain": [
       "<Figure size 460.8x316.8 with 1 Axes>"
      ]
     },
     "metadata": {},
     "output_type": "display_data"
    },
    {
     "name": "stdout",
     "output_type": "stream",
     "text": [
      "Densnet CIFAR100 with ODIN preprocess:\n",
      "                   AUROC  AP-In  AP-Out  KL Divergence  KL in P_lamb\n",
      "Imagenet (crop)    93.99  94.00   94.10           1.73          0.47\n",
      "Imagenet (resize)  96.54  96.37   96.75           0.60          0.15\n",
      "LSUN (crop)        80.53  81.78   79.07           2.83          0.78\n",
      "LSUN (resize)      97.56  97.66   97.44           0.93          0.24\n",
      "iSUN               97.36  97.44   97.36           0.84          0.22\n"
     ]
    }
   ],
   "source": [
    "trainset_all = np.load(\n",
    "    '../output/embeddings/densenet_cifar100_cifar100_train.npy').T\n",
    "testset_ind = np.load(\n",
    "    '../output/embeddings/densenet_cifar100_cifar100_test_odin.npy').T\n",
    "train_labels = np.load('../output/embeddings/cifar100_train_labels.npy')\n",
    "\n",
    "\n",
    "datasets = [('Imagenet (crop)', '../output/embeddings/densenet_cifar100_Imagenet_test_odin.npy'),\n",
    "            ('Imagenet (resize)',\n",
    "             '../output/embeddings/densenet_cifar100_Imagenet_resize_test_odin.npy'),\n",
    "            ('LSUN (crop)', '../output/embeddings/densenet_cifar100_LSUN_test_odin.npy'),\n",
    "            ('LSUN (resize)',\n",
    "             '../output/embeddings/densenet_cifar100_LSUN_resize_test_odin.npy'),\n",
    "            ('iSUN', '../output/embeddings/densenet_cifar100_iSUN_test_odin.npy')\n",
    "            ]\n",
    "performance_list = []\n",
    "print('Labels {}'.format(len(np.unique(train_labels))))\n",
    "for (name, npy_path) in datasets:\n",
    "    performance, regret_ind_list, regret_ood_list = analyze_ind_ood(trainset_all, train_labels, testset_ind,\n",
    "                                                                    np.load(npy_path).T)\n",
    "    performance = performance.rename(index={0: name})\n",
    "    print(performance)\n",
    "    plot_ood(regret_ind_list, regret_ood_list, name)\n",
    "    performance_list.append(performance)\n",
    "result_cifar100 = pd.concat(performance_list)\n",
    "print('Densnet CIFAR100 with ODIN preprocess:')\n",
    "print(result_cifar100.round(2))\n"
   ]
  },
  {
   "cell_type": "markdown",
   "metadata": {},
   "source": [
    "## ODIN CIFAR10"
   ]
  },
  {
   "cell_type": "code",
   "execution_count": 11,
   "metadata": {},
   "outputs": [
    {
     "name": "stdout",
     "output_type": "stream",
     "text": [
      "Labels 10\n"
     ]
    },
    {
     "data": {
      "application/vnd.jupyter.widget-view+json": {
       "model_id": "5deffeda54914590ba981d61deb8ef29",
       "version_major": 2,
       "version_minor": 0
      },
      "text/plain": [
       "HBox(children=(IntProgress(value=0, max=10), HTML(value='')))"
      ]
     },
     "metadata": {},
     "output_type": "display_data"
    },
    {
     "name": "stdout",
     "output_type": "stream",
     "text": [
      "\n",
      "                     AUROC     AP-In     AP-Out  KL Divergence  KL in P_lamb\n",
      "Imagenet (crop)  97.897385  97.83568  98.015694       13.26051      2.341553\n"
     ]
    },
    {
     "data": {
      "image/png": "[encoded data removed]",
      "text/plain": [
       "<Figure size 460.8x316.8 with 1 Axes>"
      ]
     },
     "metadata": {},
     "output_type": "display_data"
    },
    {
     "data": {
      "application/vnd.jupyter.widget-view+json": {
       "model_id": "10df0cceb56c41c8b15719ebf68f4cd3",
       "version_major": 2,
       "version_minor": 0
      },
      "text/plain": [
       "HBox(children=(IntProgress(value=0, max=10), HTML(value='')))"
      ]
     },
     "metadata": {},
     "output_type": "display_data"
    },
    {
     "name": "stdout",
     "output_type": "stream",
     "text": [
      "\n",
      "                       AUROC      AP-In     AP-Out  KL Divergence  \\\n",
      "Imagenet (resize)  96.841256  96.620083  97.016993      10.481326   \n",
      "\n",
      "                   KL in P_lamb  \n",
      "Imagenet (resize)      2.127032  \n"
     ]
    },
    {
     "data": {
      "image/png": "[encoded data removed]",
      "text/plain": [
       "<Figure size 460.8x316.8 with 1 Axes>"
      ]
     },
     "metadata": {},
     "output_type": "display_data"
    },
    {
     "data": {
      "application/vnd.jupyter.widget-view+json": {
       "model_id": "562368cc95b349d59cd62811dc339a01",
       "version_major": 2,
       "version_minor": 0
      },
      "text/plain": [
       "HBox(children=(IntProgress(value=0, max=10), HTML(value='')))"
      ]
     },
     "metadata": {},
     "output_type": "display_data"
    },
    {
     "name": "stdout",
     "output_type": "stream",
     "text": [
      "\n",
      "                 AUROC      AP-In     AP-Out  KL Divergence  KL in P_lamb\n",
      "LSUN (crop)  96.299885  96.151956  96.505993       5.548375      1.793005\n"
     ]
    },
    {
     "data": {
      "image/png": "[encoded data removed]",
      "text/plain": [
       "<Figure size 460.8x316.8 with 1 Axes>"
      ]
     },
     "metadata": {},
     "output_type": "display_data"
    },
    {
     "data": {
      "application/vnd.jupyter.widget-view+json": {
       "model_id": "6c9ab5c6c93748dd921d9ab56fb2b8a6",
       "version_major": 2,
       "version_minor": 0
      },
      "text/plain": [
       "HBox(children=(IntProgress(value=0, max=10), HTML(value='')))"
      ]
     },
     "metadata": {},
     "output_type": "display_data"
    },
    {
     "name": "stdout",
     "output_type": "stream",
     "text": [
      "\n",
      "                   AUROC      AP-In     AP-Out  KL Divergence  KL in P_lamb\n",
      "LSUN (resize)  98.180391  98.283753  98.056358      11.704344      2.375843\n"
     ]
    },
    {
     "data": {
      "image/png": "[encoded data removed]",
      "text/plain": [
       "<Figure size 460.8x316.8 with 1 Axes>"
      ]
     },
     "metadata": {},
     "output_type": "display_data"
    },
    {
     "data": {
      "application/vnd.jupyter.widget-view+json": {
       "model_id": "412d61f26536427eafb1d196e0820936",
       "version_major": 2,
       "version_minor": 0
      },
      "text/plain": [
       "HBox(children=(IntProgress(value=0, max=10), HTML(value='')))"
      ]
     },
     "metadata": {},
     "output_type": "display_data"
    },
    {
     "name": "stdout",
     "output_type": "stream",
     "text": [
      "\n",
      "          AUROC      AP-In     AP-Out  KL Divergence  KL in P_lamb\n",
      "iSUN  97.767036  97.749159  97.762977       9.671088      1.925139\n"
     ]
    },
    {
     "data": {
      "image/png": "[encoded data removed]",
      "text/plain": [
       "<Figure size 460.8x316.8 with 1 Axes>"
      ]
     },
     "metadata": {},
     "output_type": "display_data"
    },
    {
     "name": "stdout",
     "output_type": "stream",
     "text": [
      "Densnet CIFAR10 with ODIN preprocess:\n",
      "                   AUROC  AP-In  AP-Out  KL Divergence  KL in P_lamb\n",
      "Imagenet (crop)    97.90  97.84   98.02          13.26          2.34\n",
      "Imagenet (resize)  96.84  96.62   97.02          10.48          2.13\n",
      "LSUN (crop)        96.30  96.15   96.51           5.55          1.79\n",
      "LSUN (resize)      98.18  98.28   98.06          11.70          2.38\n",
      "iSUN               97.77  97.75   97.76           9.67          1.93\n"
     ]
    }
   ],
   "source": [
    "trainset_all = np.load(\n",
    "    '../output/embeddings/densenet_cifar10_cifar10_train.npy').T\n",
    "testset_ind = np.load(\n",
    "    '../output/embeddings/densenet_cifar10_cifar10_test_odin.npy').T\n",
    "train_labels = np.load('../output/embeddings/cifar10_train_labels.npy')\n",
    "\n",
    "\n",
    "datasets = [('Imagenet (crop)', '../output/embeddings/densenet_cifar10_Imagenet_test_odin.npy'),\n",
    "            ('Imagenet (resize)',\n",
    "             '../output/embeddings/densenet_cifar10_Imagenet_resize_test_odin.npy'),\n",
    "            ('LSUN (crop)', '../output/embeddings/densenet_cifar10_LSUN_test_odin.npy'),\n",
    "            ('LSUN (resize)',\n",
    "             '../output/embeddings/densenet_cifar10_LSUN_resize_test_odin.npy'),\n",
    "            ('iSUN', '../output/embeddings/densenet_cifar10_iSUN_test_odin.npy')\n",
    "            ]\n",
    "performance_list = []\n",
    "print('Labels {}'.format(len(np.unique(train_labels))))\n",
    "for (name, npy_path) in datasets:\n",
    "    performance, regret_ind_list, regret_ood_list = analyze_ind_ood(trainset_all, train_labels, testset_ind,\n",
    "                                                                    np.load(npy_path).T)\n",
    "    performance = performance.rename(index={0: name})\n",
    "    print(performance)\n",
    "    plot_ood(regret_ind_list, regret_ood_list, name)\n",
    "    performance_list.append(performance)\n",
    "result_cifar10 = pd.concat(performance_list)\n",
    "print('Densnet CIFAR10 with ODIN preprocess:')\n",
    "print(result_cifar10.round(2))\n"
   ]
  },
  {
   "cell_type": "code",
   "execution_count": null,
   "metadata": {},
   "outputs": [],
   "source": []
  }
 ],
 "metadata": {
  "kernelspec": {
   "display_name": "Python 3",
   "language": "python",
   "name": "python3"
  },
  "language_info": {
   "codemirror_mode": {
    "name": "ipython",
    "version": 3
   },
   "file_extension": ".py",
   "mimetype": "text/x-python",
   "name": "python",
   "nbconvert_exporter": "python",
   "pygments_lexer": "ipython3",
   "version": "3.6.9"
  }
 },
 "nbformat": 4,
 "nbformat_minor": 4
}
