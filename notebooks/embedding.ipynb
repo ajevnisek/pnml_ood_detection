{
 "cells": [
  {
   "cell_type": "code",
   "execution_count": 1,
   "metadata": {},
   "outputs": [
    {
     "name": "stdout",
     "output_type": "stream",
     "text": [
      "output_path =  ../output/figures\n",
      "plt = single_column_plt_params(plt)\n",
      "plt = double_column_plt_params(plt)\n"
     ]
    }
   ],
   "source": [
    "import numpy as np\n",
    "import matplotlib as mpl\n",
    "import matplotlib.pyplot as plt\n",
    "import time\n",
    "import json\n",
    "import pandas as pd\n",
    "import copy\n",
    "import sys\n",
    "from glob import glob\n",
    "from copy import deepcopy\n",
    "from tqdm import tqdm_notebook as tqdm\n",
    "%run ./plot_functions.ipynb\n",
    "sys.path.insert(0, '../src/')\n"
   ]
  },
  {
   "cell_type": "code",
   "execution_count": 2,
   "metadata": {},
   "outputs": [],
   "source": [
    "from analyze_utilities import *\n",
    "# from dataset_utilities import create_cifar10_dataloaders\n",
    "from distributions_metrics import *\n",
    "plt = single_column_plt_params(plt)\n"
   ]
  },
  {
   "cell_type": "markdown",
   "metadata": {},
   "source": [
    "# ODIN Baseline"
   ]
  },
  {
   "cell_type": "code",
   "execution_count": 3,
   "metadata": {},
   "outputs": [
    {
     "name": "stdout",
     "output_type": "stream",
     "text": [
      "\n",
      "ODIN:\n",
      "    AUROC   AP-In  AP-Out  KL Divergence  KL in P_lamb\n",
      "0  98.862  98.914  98.868          0.542         0.139\n"
     ]
    },
    {
     "data": {
      "image/png": "[encoded data removed]",
      "text/plain": [
       "<Figure size 460.8x316.8 with 1 Axes>"
      ]
     },
     "metadata": {},
     "output_type": "display_data"
    }
   ],
   "source": [
    "# ODIN baseline: with pNML fraemwork\n",
    "file_baseline_cifar10 = '../output/baseline_odin_densenet_cifar10_cifar10_20190926_184650/results_baseline_odin_densenet_cifar10_cifar10_20190926_184650.json'\n",
    "file_baseline_isun = '../output/baseline_odin_densenet_cifar10_isun_20190926_184648/results_baseline_odin_densenet_cifar10_isun_20190926_184648.json'\n",
    "\n",
    "with open(file_baseline_cifar10) as data_file:\n",
    "    ind_df = result_dict_to_erm_df(json.load(data_file), is_out_of_dist=True)\n",
    "ind_df = ind_df.add_prefix('erm_')\n",
    "ind_df.index = ind_df.index.astype(int)\n",
    "ind_df_odin = ind_df.sort_index()\n",
    "print()\n",
    "with open(file_baseline_isun) as data_file:\n",
    "    ood_df = result_dict_to_erm_df(json.load(data_file), is_out_of_dist=True)\n",
    "ood_df = ood_df.add_prefix('erm_')\n",
    "ood_df.index = ood_df.index.astype(int)\n",
    "ood_df_odin = ood_df.sort_index()\n",
    "\n",
    "# Baseline Max prob of ERM\n",
    "y_score_ind = ind_df_odin[['erm_' + str(x) for x in range(10)]].max(axis=1).tolist() + \\\n",
    "    ood_df_odin[['erm_' + str(x) for x in range(10)]].max(axis=1).tolist()\n",
    "y_true_ind = [True] * ind_df_odin.shape[0] + [False] * ood_df_odin.shape[0]\n",
    "baseline_performance = calc_performance_in_out_dist(y_true_ind, y_score_ind)\n",
    "\n",
    "y_score_ind = np.array(y_score_ind)\n",
    "y_true_ind = np.array(y_true_ind)\n",
    "\n",
    "print('ODIN:')\n",
    "print(baseline_performance.round(3))\n",
    "\n",
    "bins = 100\n",
    "min_r = np.min(y_score_ind)\n",
    "max_r = np.max(y_score_ind)\n",
    "_, bins, _ = plt.hist(y_score_ind[y_true_ind], range=[\n",
    "                      min_r, max_r], rwidth=0.8, bins=bins, label='InDist')\n",
    "plt.hist(y_score_ind[np.logical_not(y_true_ind)], rwidth=0.9,\n",
    "         alpha=0.5, bins=bins,  label='InDist')\n",
    "plt.title('ODIN Baseline')\n",
    "plt.legend()\n",
    "plt.show()\n"
   ]
  },
  {
   "cell_type": "markdown",
   "metadata": {},
   "source": [
    "# Linear regression"
   ]
  },
  {
   "cell_type": "code",
   "execution_count": 10,
   "metadata": {},
   "outputs": [],
   "source": [
    "def compute_regret(x_m_train: np.ndarray, x_m_test: np.ndarray, lamb: float):\n",
    "    n = x_m_train.shape[1]\n",
    "\n",
    "    # SVD decomposition\n",
    "    u, s, vh = np.linalg.svd(x_m_train)\n",
    "    eta = s ** 2\n",
    "    eta = eta[:, np.newaxis]\n",
    "\n",
    "    # Calc mean regret\n",
    "    x_t_u_2 = (x_m_test.T.dot(u)) ** 2\n",
    "    div = x_t_u_2 / \\\n",
    "        (eta +\n",
    "         lamb) if eta.shape[0] == x_t_u_2.shape[0] else x_t_u_2 / (eta.T + lamb)\n",
    "    regret_all = np.log(1 + (1 / n) * div.sum(axis=1))\n",
    "    return regret_all.tolist()\n",
    "#     return div.sum(axis=1).tolist()\n",
    "\n",
    "\n",
    "def plot_ood(regret_ind_list: list, regret_ood_list: list, dataset_name: str):\n",
    "    min_r = np.min(regret_ind_list+regret_ood_list)\n",
    "    max_r = np.max(regret_ind_list+regret_ood_list)\n",
    "    _, bins, _ = plt.hist(regret_ind_list, bins=100,  range=[min_r, max_r],\n",
    "                          label='InDist', rwidth=0.8)\n",
    "    plt.hist(regret_ood_list, bins=bins, alpha=0.5,\n",
    "             label='OutOfDist', rwidth=0.8)\n",
    "    plt.title(dataset_name)\n",
    "    plt.legend()\n",
    "    plt.yscale('symlog')\n",
    "    plt.show()\n",
    "\n",
    "\n",
    "def analyze_ind_ood(trainset_all: np.ndarray, train_labels: np.ndarray, testset_ind: np.ndarray, testset_ood: np.ndarray):\n",
    "    regret_ind_list_all = []\n",
    "    regret_ood_list_all = []\n",
    "\n",
    "    for class_num in tqdm(np.unique(train_labels)):\n",
    "        trainset = trainset_all[:, train_labels == class_num]\n",
    "        trainset_mean = np.mean(trainset.mean(axis=1))\n",
    "\n",
    "#         # Normalize?\n",
    "#         trainset = trainset - trainset_mean\n",
    "#         testset_ind_calc = testset_ind - trainset_mean\n",
    "#         testset_ood_calc = testset_ood - trainset_mean\n",
    "\n",
    "        #\n",
    "        testset_ind_calc = testset_ind\n",
    "        testset_ood_calc = testset_ood\n",
    "\n",
    "        regret_ind_list_all.append(compute_regret(\n",
    "            trainset, testset_ind_calc, lamb=0))\n",
    "        regret_ood_list_all.append(compute_regret(\n",
    "            trainset, testset_ood_calc, lamb=0))\n",
    "\n",
    "    regret_ind_np = np.asarray(regret_ind_list_all)\n",
    "    regret_ood_np = np.asarray(regret_ood_list_all)\n",
    "\n",
    "    regret_ind_list = regret_ind_np.min(axis=0).tolist()\n",
    "    regret_ood_list = regret_ood_np.min(axis=0).tolist()\n",
    "\n",
    "    y_score_ind = regret_ind_list + regret_ood_list\n",
    "    y_score_ind = 1 - np.array(y_score_ind)\n",
    "    y_true_ind = [True] * len(regret_ind_list) + [False] * len(regret_ood_list)\n",
    "    performance = calc_performance_in_out_dist(y_true_ind, y_score_ind)\n",
    "\n",
    "    return performance, regret_ind_list, regret_ood_list\n"
   ]
  },
  {
   "cell_type": "markdown",
   "metadata": {},
   "source": [
    "## Densnet CIFAR100"
   ]
  },
  {
   "cell_type": "code",
   "execution_count": 8,
   "metadata": {},
   "outputs": [
    {
     "name": "stdout",
     "output_type": "stream",
     "text": [
      "Labels 100\n"
     ]
    },
    {
     "data": {
      "application/vnd.jupyter.widget-view+json": {
       "model_id": "ef94df1c0c3a4ff9afba21492e65b796",
       "version_major": 2,
       "version_minor": 0
      },
      "text/plain": [
       "HBox(children=(IntProgress(value=0), HTML(value='')))"
      ]
     },
     "metadata": {},
     "output_type": "display_data"
    },
    {
     "name": "stdout",
     "output_type": "stream",
     "text": [
      "\n",
      "                     AUROC      AP-In     AP-Out  KL Divergence  KL in P_lamb\n",
      "Imagenet (crop)  87.904516  87.048085  88.759393       1.771857      0.486434\n"
     ]
    },
    {
     "data": {
      "image/png": "[encoded data removed]",
      "text/plain": [
       "<Figure size 460.8x316.8 with 1 Axes>"
      ]
     },
     "metadata": {},
     "output_type": "display_data"
    },
    {
     "data": {
      "application/vnd.jupyter.widget-view+json": {
       "model_id": "0dbaaca7efd242a78d84c32850797d91",
       "version_major": 2,
       "version_minor": 0
      },
      "text/plain": [
       "HBox(children=(IntProgress(value=0), HTML(value='')))"
      ]
     },
     "metadata": {},
     "output_type": "display_data"
    },
    {
     "name": "stdout",
     "output_type": "stream",
     "text": [
      "\n",
      "                       AUROC      AP-In     AP-Out  KL Divergence  \\\n",
      "Imagenet (resize)  96.179621  96.041663  96.355093       0.660134   \n",
      "\n",
      "                   KL in P_lamb  \n",
      "Imagenet (resize)      0.167734  \n"
     ]
    },
    {
     "data": {
      "image/png": "[encoded data removed]",
      "text/plain": [
       "<Figure size 460.8x316.8 with 1 Axes>"
      ]
     },
     "metadata": {},
     "output_type": "display_data"
    },
    {
     "data": {
      "application/vnd.jupyter.widget-view+json": {
       "model_id": "22adee1aab3d4818b847e9951df5f040",
       "version_major": 2,
       "version_minor": 0
      },
      "text/plain": [
       "HBox(children=(IntProgress(value=0), HTML(value='')))"
      ]
     },
     "metadata": {},
     "output_type": "display_data"
    },
    {
     "name": "stdout",
     "output_type": "stream",
     "text": [
      "\n",
      "                 AUROC      AP-In    AP-Out  KL Divergence  KL in P_lamb\n",
      "LSUN (crop)  60.058649  62.159629  61.06394       3.434348      0.956307\n"
     ]
    },
    {
     "data": {
      "image/png": "[encoded data removed]",
      "text/plain": [
       "<Figure size 460.8x316.8 with 1 Axes>"
      ]
     },
     "metadata": {},
     "output_type": "display_data"
    },
    {
     "data": {
      "application/vnd.jupyter.widget-view+json": {
       "model_id": "170528b7996f42329dd11e9fb8f40d05",
       "version_major": 2,
       "version_minor": 0
      },
      "text/plain": [
       "HBox(children=(IntProgress(value=0), HTML(value='')))"
      ]
     },
     "metadata": {},
     "output_type": "display_data"
    },
    {
     "name": "stdout",
     "output_type": "stream",
     "text": [
      "\n",
      "                   AUROC      AP-In    AP-Out  KL Divergence  KL in P_lamb\n",
      "LSUN (resize)  97.210145  97.332858  96.99145        1.31802      0.350047\n"
     ]
    },
    {
     "data": {
      "image/png": "[encoded data removed]",
      "text/plain": [
       "<Figure size 460.8x316.8 with 1 Axes>"
      ]
     },
     "metadata": {},
     "output_type": "display_data"
    },
    {
     "data": {
      "application/vnd.jupyter.widget-view+json": {
       "model_id": "d307928be3e346f9a4ab7244a96c7e27",
       "version_major": 2,
       "version_minor": 0
      },
      "text/plain": [
       "HBox(children=(IntProgress(value=0), HTML(value='')))"
      ]
     },
     "metadata": {},
     "output_type": "display_data"
    },
    {
     "name": "stdout",
     "output_type": "stream",
     "text": [
      "\n",
      "          AUROC      AP-In     AP-Out  KL Divergence  KL in P_lamb\n",
      "iSUN  97.219388  97.275662  97.137635       0.708075      0.184034\n"
     ]
    },
    {
     "data": {
      "image/png": "[encoded data removed]",
      "text/plain": [
       "<Figure size 460.8x316.8 with 1 Axes>"
      ]
     },
     "metadata": {},
     "output_type": "display_data"
    },
    {
     "name": "stdout",
     "output_type": "stream",
     "text": [
      "Densnet CIFAR100:\n",
      "                   AUROC  AP-In  AP-Out  KL Divergence  KL in P_lamb\n",
      "Imagenet (crop)    87.90  87.05   88.76           1.77          0.49\n",
      "Imagenet (resize)  96.18  96.04   96.36           0.66          0.17\n",
      "LSUN (crop)        60.06  62.16   61.06           3.43          0.96\n",
      "LSUN (resize)      97.21  97.33   96.99           1.32          0.35\n",
      "iSUN               97.22  97.28   97.14           0.71          0.18\n"
     ]
    }
   ],
   "source": [
    "trainset_all = np.load(\n",
    "    '../output/embeddings/densenet_cifar100_cifar100_train.npy').T\n",
    "testset_ind = np.load(\n",
    "    '../output/embeddings/densenet_cifar100_cifar100_test.npy').T\n",
    "train_labels = np.load('../output/embeddings/cifar100_train_labels.npy')\n",
    "\n",
    "\n",
    "datasets = [('Imagenet (crop)', '../output/embeddings/densenet_cifar100_Imagenet_test.npy'),\n",
    "            ('Imagenet (resize)',\n",
    "             '../output/embeddings/densenet_cifar100_Imagenet_resize_test.npy'),\n",
    "            ('LSUN (crop)', '../output/embeddings/densenet_cifar100_LSUN_test.npy'),\n",
    "            ('LSUN (resize)', '../output/embeddings/densenet_cifar100_LSUN_resize_test.npy'),\n",
    "            ('iSUN', '../output/embeddings/densenet_cifar100_iSUN_test.npy')\n",
    "            ]\n",
    "print('Labels {}'.format(len(np.unique(train_labels))))\n",
    "performance_list = []\n",
    "for (name, npy_path) in datasets:\n",
    "    performance, regret_ind_list, regret_ood_list = analyze_ind_ood(trainset_all, train_labels, testset_ind,\n",
    "                                                                    np.load(npy_path).T)\n",
    "    performance = performance.rename(index={0: name})\n",
    "    print(performance)\n",
    "    plot_ood(regret_ind_list, regret_ood_list, name)\n",
    "    performance_list.append(performance)\n",
    "result_cifar100 = pd.concat(performance_list)\n",
    "print('Densnet CIFAR100:')\n",
    "print(result_cifar100.round(2))\n"
   ]
  },
  {
   "cell_type": "markdown",
   "metadata": {},
   "source": [
    "## Densnet CIFAR10"
   ]
  },
  {
   "cell_type": "code",
   "execution_count": 11,
   "metadata": {},
   "outputs": [
    {
     "name": "stdout",
     "output_type": "stream",
     "text": [
      "Labels 10\n"
     ]
    },
    {
     "data": {
      "application/vnd.jupyter.widget-view+json": {
       "model_id": "7e20ef1fe4a04c48a5143667db4a7050",
       "version_major": 2,
       "version_minor": 0
      },
      "text/plain": [
       "HBox(children=(IntProgress(value=0, max=10), HTML(value='')))"
      ]
     },
     "metadata": {},
     "output_type": "display_data"
    },
    {
     "name": "stdout",
     "output_type": "stream",
     "text": [
      "\n",
      "                     AUROC      AP-In     AP-Out  KL Divergence  KL in P_lamb\n",
      "Imagenet (crop)  97.440749  97.405059  97.593876      11.736068      2.240547\n"
     ]
    },
    {
     "data": {
      "image/png": "[encoded data removed]",
      "text/plain": [
       "<Figure size 460.8x316.8 with 1 Axes>"
      ]
     },
     "metadata": {},
     "output_type": "display_data"
    },
    {
     "data": {
      "application/vnd.jupyter.widget-view+json": {
       "model_id": "7308d7ba6622472692bf670610043c5e",
       "version_major": 2,
       "version_minor": 0
      },
      "text/plain": [
       "HBox(children=(IntProgress(value=0, max=10), HTML(value='')))"
      ]
     },
     "metadata": {},
     "output_type": "display_data"
    },
    {
     "name": "stdout",
     "output_type": "stream",
     "text": [
      "\n",
      "                       AUROC      AP-In     AP-Out  KL Divergence  \\\n",
      "Imagenet (resize)  96.688285  96.557273  96.818988      10.981363   \n",
      "\n",
      "                   KL in P_lamb  \n",
      "Imagenet (resize)       2.22725  \n"
     ]
    },
    {
     "data": {
      "image/png": "[encoded data removed]",
      "text/plain": [
       "<Figure size 460.8x316.8 with 1 Axes>"
      ]
     },
     "metadata": {},
     "output_type": "display_data"
    },
    {
     "data": {
      "application/vnd.jupyter.widget-view+json": {
       "model_id": "75e6c1b49e764e318cd3be3b165186db",
       "version_major": 2,
       "version_minor": 0
      },
      "text/plain": [
       "HBox(children=(IntProgress(value=0, max=10), HTML(value='')))"
      ]
     },
     "metadata": {},
     "output_type": "display_data"
    },
    {
     "name": "stdout",
     "output_type": "stream",
     "text": [
      "\n",
      "                 AUROC      AP-In     AP-Out  KL Divergence  KL in P_lamb\n",
      "LSUN (crop)  94.315965  94.442337  94.475825       5.246784      1.715768\n"
     ]
    },
    {
     "data": {
      "image/png": "[encoded data removed]",
      "text/plain": [
       "<Figure size 460.8x316.8 with 1 Axes>"
      ]
     },
     "metadata": {},
     "output_type": "display_data"
    },
    {
     "data": {
      "application/vnd.jupyter.widget-view+json": {
       "model_id": "849101959de84d80b4203c7616d9309f",
       "version_major": 2,
       "version_minor": 0
      },
      "text/plain": [
       "HBox(children=(IntProgress(value=0, max=10), HTML(value='')))"
      ]
     },
     "metadata": {},
     "output_type": "display_data"
    },
    {
     "name": "stdout",
     "output_type": "stream",
     "text": [
      "\n",
      "                   AUROC      AP-In     AP-Out  KL Divergence  KL in P_lamb\n",
      "LSUN (resize)  97.956123  98.073359  97.790891      13.260812      2.342996\n"
     ]
    },
    {
     "data": {
      "image/png": "[encoded data removed]",
      "text/plain": [
       "<Figure size 460.8x316.8 with 1 Axes>"
      ]
     },
     "metadata": {},
     "output_type": "display_data"
    },
    {
     "data": {
      "application/vnd.jupyter.widget-view+json": {
       "model_id": "b1efa4c586df47b0b97093d6ae92eabc",
       "version_major": 2,
       "version_minor": 0
      },
      "text/plain": [
       "HBox(children=(IntProgress(value=0, max=10), HTML(value='')))"
      ]
     },
     "metadata": {},
     "output_type": "display_data"
    },
    {
     "name": "stdout",
     "output_type": "stream",
     "text": [
      "\n",
      "          AUROC      AP-In     AP-Out  KL Divergence  KL in P_lamb\n",
      "iSUN  97.571352  97.552784  97.533161       7.586345      1.828769\n"
     ]
    },
    {
     "data": {
      "image/png": "[encoded data removed]",
      "text/plain": [
       "<Figure size 460.8x316.8 with 1 Axes>"
      ]
     },
     "metadata": {},
     "output_type": "display_data"
    },
    {
     "name": "stdout",
     "output_type": "stream",
     "text": [
      "Densnet CIFAR10:\n",
      "                   AUROC  AP-In  AP-Out  KL Divergence  KL in P_lamb\n",
      "Imagenet (crop)    97.44  97.41   97.59          11.74          2.24\n",
      "Imagenet (resize)  96.69  96.56   96.82          10.98          2.23\n",
      "LSUN (crop)        94.32  94.44   94.48           5.25          1.72\n",
      "LSUN (resize)      97.96  98.07   97.79          13.26          2.34\n",
      "iSUN               97.57  97.55   97.53           7.59          1.83\n"
     ]
    }
   ],
   "source": [
    "trainset_all = np.load(\n",
    "    '../output/embeddings/densenet_cifar10_cifar10_train.npy').T\n",
    "testset_ind = np.load(\n",
    "    '../output/embeddings/densenet_cifar10_cifar10_test.npy').T\n",
    "train_labels = np.load('../output/embeddings/cifar10_train_labels.npy')\n",
    "\n",
    "\n",
    "datasets = [('Imagenet (crop)', '../output/embeddings/densenet_cifar10_Imagenet_test.npy'),\n",
    "            ('Imagenet (resize)',\n",
    "             '../output/embeddings/densenet_cifar10_Imagenet_resize_test.npy'),\n",
    "            ('LSUN (crop)', '../output/embeddings/densenet_cifar10_LSUN_test.npy'),\n",
    "            ('LSUN (resize)', '../output/embeddings/densenet_cifar10_LSUN_resize_test.npy'),\n",
    "            ('iSUN', '../output/embeddings/densenet_cifar10_iSUN_test.npy')\n",
    "            ]\n",
    "performance_list = []\n",
    "print('Labels {}'.format(len(np.unique(train_labels))))\n",
    "for (name, npy_path) in datasets:\n",
    "    performance, regret_ind_list, regret_ood_list = analyze_ind_ood(trainset_all, train_labels, testset_ind,\n",
    "                                                                    np.load(npy_path).T)\n",
    "    performance = performance.rename(index={0: name})\n",
    "    print(performance)\n",
    "    plot_ood(regret_ind_list, regret_ood_list, name)\n",
    "    performance_list.append(performance)\n",
    "result_cifar10 = pd.concat(performance_list)\n",
    "print('Densnet CIFAR10:')\n",
    "print(result_cifar10.round(2))\n"
   ]
  },
  {
   "cell_type": "markdown",
   "metadata": {},
   "source": [
    "## ODIN CIFAR100"
   ]
  },
  {
   "cell_type": "code",
   "execution_count": null,
   "metadata": {},
   "outputs": [],
   "source": [
    "trainset_all = np.load(\n",
    "    '../output/embeddings/densenet_cifar100_cifar100_train.npy').T\n",
    "testset_ind = np.load(\n",
    "    '../output/embeddings/densenet_cifar100_cifar100_test_odin.npy').T\n",
    "train_labels = np.load('../output/embeddings/cifar100_train_labels.npy')\n",
    "\n",
    "\n",
    "datasets = [('Imagenet (crop)', '../output/embeddings/densenet_cifar100_Imagenet_test_odin.npy'),\n",
    "            ('Imagenet (resize)',\n",
    "             '../output/embeddings/densenet_cifar100_Imagenet_resize_test_odin.npy'),\n",
    "            ('LSUN (crop)', '../output/embeddings/densenet_cifar100_LSUN_test_odin.npy'),\n",
    "            ('LSUN (resize)',\n",
    "             '../output/embeddings/densenet_cifar100_LSUN_resize_test_odin.npy'),\n",
    "            ('iSUN', '../output/embeddings/densenet_cifar100_iSUN_test_odin.npy')\n",
    "            ]\n",
    "performance_list = []\n",
    "print('Labels {}'.format(len(np.unique(train_labels))))\n",
    "for (name, npy_path) in datasets:\n",
    "    performance, regret_ind_list, regret_ood_list = analyze_ind_ood(trainset_all, train_labels, testset_ind,\n",
    "                                                                    np.load(npy_path).T)\n",
    "    performance = performance.rename(index={0: name})\n",
    "    print(performance)\n",
    "    plot_ood(regret_ind_list, regret_ood_list, name)\n",
    "    performance_list.append(performance)\n",
    "result_cifar100 = pd.concat(performance_list)\n",
    "print('Densnet CIFAR100 with ODIN preprocess:')\n",
    "print(result_cifar100.round(2))\n"
   ]
  },
  {
   "cell_type": "markdown",
   "metadata": {},
   "source": [
    "## ODIN CIFAR10"
   ]
  },
  {
   "cell_type": "code",
   "execution_count": null,
   "metadata": {},
   "outputs": [],
   "source": [
    "trainset_all = np.load(\n",
    "    '../output/embeddings/densenet_cifar10_cifar10_train.npy').T\n",
    "testset_ind = np.load(\n",
    "    '../output/embeddings/densenet_cifar10_cifar10_test_odin.npy').T\n",
    "train_labels = np.load('../output/embeddings/cifar10_train_labels.npy')\n",
    "\n",
    "\n",
    "datasets = [('Imagenet (crop)', '../output/embeddings/densenet_cifar10_Imagenet_test_odin.npy'),\n",
    "            ('Imagenet (resize)',\n",
    "             '../output/embeddings/densenet_cifar10_Imagenet_resize_test_odin.npy'),\n",
    "            ('LSUN (crop)', '../output/embeddings/densenet_cifar10_LSUN_test_odin.npy'),\n",
    "            ('LSUN (resize)',\n",
    "             '../output/embeddings/densenet_cifar10_LSUN_resize_test_odin.npy'),\n",
    "            ('iSUN', '../output/embeddings/densenet_cifar10_iSUN_test_odin.npy')\n",
    "            ]\n",
    "performance_list = []\n",
    "print('Labels {}'.format(len(np.unique(train_labels))))\n",
    "for (name, npy_path) in datasets:\n",
    "    performance, regret_ind_list, regret_ood_list = analyze_ind_ood(trainset_all, train_labels, testset_ind,\n",
    "                                                                    np.load(npy_path).T)\n",
    "    performance = performance.rename(index={0: name})\n",
    "    print(performance)\n",
    "    plot_ood(regret_ind_list, regret_ood_list, name)\n",
    "    performance_list.append(performance)\n",
    "result_cifar10 = pd.concat(performance_list)\n",
    "print('Densnet CIFAR10 with ODIN preprocess:')\n",
    "print(result_cifar10.round(2))\n"
   ]
  },
  {
   "cell_type": "code",
   "execution_count": null,
   "metadata": {},
   "outputs": [],
   "source": []
  }
 ],
 "metadata": {
  "kernelspec": {
   "display_name": "Python 3",
   "language": "python",
   "name": "python3"
  },
  "language_info": {
   "codemirror_mode": {
    "name": "ipython",
    "version": 3
   },
   "file_extension": ".py",
   "mimetype": "text/x-python",
   "name": "python",
   "nbconvert_exporter": "python",
   "pygments_lexer": "ipython3",
   "version": "3.6.9"
  }
 },
 "nbformat": 4,
 "nbformat_minor": 4
}
