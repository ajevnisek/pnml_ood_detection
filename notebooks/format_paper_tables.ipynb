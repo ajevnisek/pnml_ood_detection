{
 "cells": [
  {
   "cell_type": "code",
   "execution_count": 14,
   "metadata": {},
   "outputs": [],
   "source": [
    "import pandas as pd\n",
    "import os"
   ]
  },
  {
   "cell_type": "code",
   "execution_count": 15,
   "metadata": {},
   "outputs": [],
   "source": [
    "ood_dataset_order = [\n",
    "    \"iSUN\",\n",
    "    \"LSUN_resize\",\n",
    "    \"LSUN\",\n",
    "    \"Imagenet_resize\",\n",
    "    \"Imagenet\",\n",
    "    \"SVHN\",\n",
    "    \"Uniform\",\n",
    "    \"Gaussian\",\n",
    "    \"cifar10\",\n",
    "    \"cifar100\",\n",
    "]\n",
    "\n",
    "rename_dict = {\n",
    "    \"LSUN_resize\": \"LSUN (R)\",\n",
    "    \"LSUN\": \"LSUN (C)\",\n",
    "    \"Imagenet_resize\": \"TinyImgNet (R)\",\n",
    "    \"Imagenet\": \"TinyImgNet (C)\",\n",
    "    \"cifar10\": \"CIFAR-10\",\n",
    "    \"cifar100\": \"CIFAR-100\",\n",
    "}\n",
    "\n",
    "model_order = [\n",
    "    \"resnet_cifar10\",\n",
    "    \"resnet_cifar100\",\n",
    "    \"resnet_svhn\",\n",
    "    \"densenet_cifar10\",\n",
    "    \"densenet_cifar100\",\n",
    "    \"densenet_svhn\",\n",
    "]\n",
    "tuple_order = [(model_i, dataset_i) for model_i in model_order for dataset_i in ood_dataset_order]"
   ]
  },
  {
   "cell_type": "code",
   "execution_count": 16,
   "metadata": {},
   "outputs": [],
   "source": [
    "input_files = [\n",
    "    \"../outputs/visualizations/result_df_AUROC.pkl\",\n",
    "    \"../outputs/visualizations/result_df_Detection Acc..pkl\",\n",
    "    \"../outputs/visualizations/result_df_TNR at TPR 95%.pkl\",\n",
    "]\n",
    "out_path = \"../outputs/visualizations\"\n",
    "os.makedirs(out_path, exist_ok=True)"
   ]
  },
  {
   "cell_type": "code",
   "execution_count": 17,
   "metadata": {},
   "outputs": [
    {
     "data": {
      "text/plain": [
       "'TNR at TPR 95%'"
      ]
     },
     "execution_count": 17,
     "metadata": {},
     "output_type": "execute_result"
    }
   ],
   "source": [
    "os.path.basename(file_name).split(\".pkl\")[0].split(\"result_df_\")[-1]"
   ]
  },
  {
   "cell_type": "code",
   "execution_count": 18,
   "metadata": {},
   "outputs": [
    {
     "name": "stdout",
     "output_type": "stream",
     "text": [
      "AUROC\n",
      "                                baseline  baseline+pNML   odin  odin+pNML  \\\n",
      "model_name     ood_dataset                                                  \n",
      "resnet_cifar10 Gaussian            97.49          99.98  99.81      99.98   \n",
      "               Imagenet            91.37          95.42  93.05      96.14   \n",
      "               Imagenet_resize     90.95          95.37  93.94      96.59   \n",
      "               LSUN                91.83          95.59  91.42      97.80   \n",
      "               LSUN_resize         91.06          96.56  94.09      97.72   \n",
      "\n",
      "                                  gram  gram+pNML  \n",
      "model_name     ood_dataset                         \n",
      "resnet_cifar10 Gaussian         100.00     100.00  \n",
      "               Imagenet          99.25      99.68  \n",
      "               Imagenet_resize   99.71      99.87  \n",
      "               LSUN              97.85      99.12  \n",
      "               LSUN_resize       99.87      99.94  \n",
      "                               baseline  baseline+pNML   odin  odin+pNML  \\\n",
      "model_name     ood_dataset                                                 \n",
      "resnet_cifar10 iSUN               91.01          96.38  93.95      98.36   \n",
      "               LSUN (R)           91.06          96.56  94.09      97.72   \n",
      "               LSUN (C)           91.83          95.59  91.42      97.80   \n",
      "               TinyImgNet (R)     90.95          95.37  93.94      96.59   \n",
      "               TinyImgNet (C)     91.37          95.42  93.05      96.14   \n",
      "\n",
      "                                gram  gram+pNML  \n",
      "model_name     ood_dataset                       \n",
      "resnet_cifar10 iSUN            99.82      99.93  \n",
      "               LSUN (R)        99.87      99.94  \n",
      "               LSUN (C)        97.85      99.12  \n",
      "               TinyImgNet (R)  99.71      99.87  \n",
      "               TinyImgNet (C)  99.25      99.68  \n",
      "Detection Acc.\n",
      "                                baseline  baseline+pNML   odin  odin+pNML  \\\n",
      "model_name     ood_dataset                                                  \n",
      "resnet_cifar10 Gaussian            95.64          99.66  98.55      99.65   \n",
      "               Imagenet            85.30          89.40  85.07      89.82   \n",
      "               Imagenet_resize     84.94          89.03  86.37      90.33   \n",
      "               LSUN                86.15          89.96  83.29      92.65   \n",
      "               LSUN_resize         85.26          90.80  86.63      92.34   \n",
      "\n",
      "                                  gram  gram+pNML  \n",
      "model_name     ood_dataset                         \n",
      "resnet_cifar10 Gaussian         100.00     100.00  \n",
      "               Imagenet          96.17      97.63  \n",
      "               Imagenet_resize   97.80      98.54  \n",
      "               LSUN              92.75      95.61  \n",
      "               LSUN_resize       98.60      99.24  \n",
      "                               baseline  baseline+pNML   odin  odin+pNML  \\\n",
      "model_name     ood_dataset                                                 \n",
      "resnet_cifar10 iSUN               85.01          90.43  86.34      93.80   \n",
      "               LSUN (R)           85.26          90.80  86.63      92.34   \n",
      "               LSUN (C)           86.15          89.96  83.29      92.65   \n",
      "               TinyImgNet (R)     84.94          89.03  86.37      90.33   \n",
      "               TinyImgNet (C)     85.30          89.40  85.07      89.82   \n",
      "\n",
      "                                gram  gram+pNML  \n",
      "model_name     ood_dataset                       \n",
      "resnet_cifar10 iSUN            98.11      98.95  \n",
      "               LSUN (R)        98.60      99.24  \n",
      "               LSUN (C)        92.75      95.61  \n",
      "               TinyImgNet (R)  97.80      98.54  \n",
      "               TinyImgNet (C)  96.17      97.63  \n",
      "TNR at TPR 95%\n",
      "                                baseline  baseline+pNML   odin  odin+pNML  \\\n",
      "model_name     ood_dataset                                                  \n",
      "resnet_cifar10 Gaussian            89.99         100.00  99.95     100.00   \n",
      "               Imagenet            45.89          72.01  67.93      77.28   \n",
      "               Imagenet_resize     44.05          73.02  71.99      81.61   \n",
      "               LSUN                47.96          74.21  62.57      88.50   \n",
      "               LSUN_resize         45.14          79.79  73.61      87.28   \n",
      "\n",
      "                                  gram  gram+pNML  \n",
      "model_name     ood_dataset                         \n",
      "resnet_cifar10 Gaussian         100.00     100.00  \n",
      "               Imagenet          96.90      98.65  \n",
      "               Imagenet_resize   98.83      99.48  \n",
      "               LSUN              90.13      96.00  \n",
      "               LSUN_resize       99.60      99.86  \n",
      "                               baseline  baseline+pNML   odin  odin+pNML  \\\n",
      "model_name     ood_dataset                                                 \n",
      "resnet_cifar10 iSUN               44.49          78.61  73.10      91.64   \n",
      "               LSUN (R)           45.14          79.79  73.61      87.28   \n",
      "               LSUN (C)           47.96          74.21  62.57      88.50   \n",
      "               TinyImgNet (R)     44.05          73.02  71.99      81.61   \n",
      "               TinyImgNet (C)     45.89          72.01  67.93      77.28   \n",
      "\n",
      "                                gram  gram+pNML  \n",
      "model_name     ood_dataset                       \n",
      "resnet_cifar10 iSUN            99.36      99.85  \n",
      "               LSUN (R)        99.60      99.86  \n",
      "               LSUN (C)        90.13      96.00  \n",
      "               TinyImgNet (R)  98.83      99.48  \n",
      "               TinyImgNet (C)  96.90      98.65  \n"
     ]
    }
   ],
   "source": [
    "for file_name in input_files:\n",
    "    metric = os.path.basename(file_name).split(\".pkl\")[0].split(\"result_df_\")[-1]\n",
    "    print(metric)\n",
    "    df = pd.read_pickle(file_name)\n",
    "    print(df.head(5))\n",
    "\n",
    "    df = df.reindex(tuple_order).dropna().rename(index=rename_dict)\n",
    "    print(df.head(5))\n",
    "\n",
    "    tsv = df.to_csv(sep=\"&\")\n",
    "    tsv = tsv.replace(\"&\", \" & \")\n",
    "    tsv = tsv.replace(\"\\n\", \"    \\\\\\\\ \\n\")\n",
    "    out_file = os.path.join(out_path, f\"{metric}.txt\")\n",
    "    with open(out_file, \"w\") as f:\n",
    "        f.write(tsv)"
   ]
  },
  {
   "cell_type": "code",
   "execution_count": null,
   "metadata": {},
   "outputs": [],
   "source": []
  }
 ],
 "metadata": {
  "kernelspec": {
   "display_name": "Python 3",
   "language": "python",
   "name": "python3"
  },
  "language_info": {
   "codemirror_mode": {
    "name": "ipython",
    "version": 3
   },
   "file_extension": ".py",
   "mimetype": "text/x-python",
   "name": "python",
   "nbconvert_exporter": "python",
   "pygments_lexer": "ipython3",
   "version": "3.8.5"
  }
 },
 "nbformat": 4,
 "nbformat_minor": 4
}
