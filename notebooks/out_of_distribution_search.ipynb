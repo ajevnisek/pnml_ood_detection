{
 "cells": [
  {
   "cell_type": "code",
   "execution_count": 1,
   "metadata": {},
   "outputs": [
    {
     "name": "stdout",
     "output_type": "stream",
     "text": [
      "output_path =  ../output/figures\n",
      "plt = single_column_plt_params(plt)\n",
      "plt = double_column_plt_params(plt)\n"
     ]
    }
   ],
   "source": [
    "import numpy as np\n",
    "import matplotlib as mpl\n",
    "import matplotlib.pyplot as plt\n",
    "from matplotlib import gridspec\n",
    "import time\n",
    "import json\n",
    "import pandas as pd\n",
    "import copy\n",
    "import sys\n",
    "from glob import glob\n",
    "from copy import deepcopy\n",
    "%run ./result_summary.ipynb\n",
    "%run ./plot_functions.ipynb\n",
    "sys.path.insert(0, '../src/')\n"
   ]
  },
  {
   "cell_type": "code",
   "execution_count": 2,
   "metadata": {},
   "outputs": [
    {
     "name": "stdout",
     "output_type": "stream",
     "text": [
      "Files already downloaded and verified\n",
      "Files already downloaded and verified\n"
     ]
    }
   ],
   "source": [
    "from analyze_utilities import *\n",
    "from dataset_utilities import create_cifar10_dataloaders\n",
    "from distributions_metrics import *\n",
    "plt = single_column_plt_params(plt)\n"
   ]
  },
  {
   "cell_type": "markdown",
   "metadata": {},
   "source": [
    "# ODIN Baseline"
   ]
  },
  {
   "cell_type": "code",
   "execution_count": 3,
   "metadata": {},
   "outputs": [
    {
     "name": "stdout",
     "output_type": "stream",
     "text": [
      "\n",
      "ODIN:\n",
      "   AUROC  AP-In  AP-Out  KL Divergence  KL in P_lamb\n",
      "0  0.989  0.989   0.989          0.542         0.139\n"
     ]
    },
    {
     "data": {
      "image/png": "[encoded data removed]",
      "text/plain": [
       "<Figure size 460.8x316.8 with 1 Axes>"
      ]
     },
     "metadata": {},
     "output_type": "display_data"
    }
   ],
   "source": [
    "# ODIN baseline: with pNML fraemwork\n",
    "file_baseline_cifar10 = '../output/baseline_odin_densenet_cifar10_cifar10_20190926_184650/results_baseline_odin_densenet_cifar10_cifar10_20190926_184650.json'\n",
    "file_baseline_isun = '../output/baseline_odin_densenet_cifar10_isun_20190926_184648/results_baseline_odin_densenet_cifar10_isun_20190926_184648.json'\n",
    "\n",
    "with open(file_baseline_cifar10) as data_file:\n",
    "    ind_df = result_dict_to_erm_df(json.load(data_file), is_out_of_dist=True)\n",
    "ind_df = ind_df.add_prefix('erm_')\n",
    "ind_df.index = ind_df.index.astype(int)\n",
    "ind_df_odin = ind_df.sort_index()\n",
    "print()\n",
    "with open(file_baseline_isun) as data_file:\n",
    "    ood_df = result_dict_to_erm_df(json.load(data_file), is_out_of_dist=True)\n",
    "ood_df = ood_df.add_prefix('erm_')\n",
    "ood_df.index = ood_df.index.astype(int)\n",
    "ood_df_odin = ood_df.sort_index()\n",
    "\n",
    "# Baseline Max prob of ERM\n",
    "y_score_ind = ind_df_odin[['erm_' + str(x) for x in range(10)]].max(axis=1).tolist() + \\\n",
    "    ood_df_odin[['erm_' + str(x) for x in range(10)]].max(axis=1).tolist()\n",
    "y_true_ind = [True] * ind_df_odin.shape[0] + [False] * ood_df_odin.shape[0]\n",
    "baseline_performance = calc_performance_in_out_dist(y_true_ind, y_score_ind)\n",
    "\n",
    "y_score_ind = np.array(y_score_ind)\n",
    "y_true_ind = np.array(y_true_ind)\n",
    "\n",
    "print('ODIN:')\n",
    "print(baseline_performance.round(3))\n",
    "\n",
    "bins = 100\n",
    "plt.hist(y_score_ind[y_true_ind], bins=bins, label='InDist')\n",
    "plt.hist(y_score_ind[np.logical_not(y_true_ind)],\n",
    "         alpha=0.5, bins=bins,  label='InDist')\n",
    "plt.title('ODIN Baseline')\n",
    "plt.legend()\n",
    "plt.show()\n"
   ]
  },
  {
   "cell_type": "markdown",
   "metadata": {},
   "source": [
    "# pNML"
   ]
  },
  {
   "cell_type": "code",
   "execution_count": 4,
   "metadata": {},
   "outputs": [],
   "source": [
    "files_cifar10 = ['../output/densenet_cifar10_cifar10_20190921_092958/results_densenet_cifar10_cifar10_20190921_092958.json',\n",
    "                 '../output/densenet_cifar10_cifar10_20190921_093000/results_densenet_cifar10_cifar10_20190921_093000.json',\n",
    "                 '../output/densenet_cifar10_cifar10_20190921_093010/results_densenet_cifar10_cifar10_20190921_093010.json',\n",
    "                 '../output/densenet_cifar10_cifar10_20190921_093012/results_densenet_cifar10_cifar10_20190921_093012.json',\n",
    "                 # with odin as preprocess\n",
    "                 '../output/densenet_cifar10_cifar10_20190926_195316/results_densenet_cifar10_cifar10_20190926_195316.json',\n",
    "                 '../output/step_size_5_densenet_cifar10_cifar10_20190927_065133/results_step_size_5_densenet_cifar10_cifar10_20190927_065133.json',\n",
    "                 ]\n",
    "files_isun = ['../output/densenet_cifar10_isun_20190921_092724/results_densenet_cifar10_isun_20190921_092724.json',\n",
    "              '../output/densenet_cifar10_isun_20190921_092729/results_densenet_cifar10_isun_20190921_092729.json',\n",
    "              '../output/densenet_cifar10_isun_20190921_092732/results_densenet_cifar10_isun_20190921_092732.json',\n",
    "              '../output/densenet_cifar10_isun_20190921_092734/results_densenet_cifar10_isun_20190921_092734.json',\n",
    "              # with odin as preprocess\n",
    "              '../output/densenet_cifar10_isun_20190926_195315/results_densenet_cifar10_isun_20190926_195315.json',\n",
    "              '../output/step_size_5_densenet_cifar10_isun_20190927_065129/results_step_size_5_densenet_cifar10_isun_20190927_065129.json',\n",
    "              ]\n",
    "\n",
    "epochs_list = [6, 8, 10, 12]  # , 'Odin', 'step_size']"
   ]
  },
  {
   "cell_type": "code",
   "execution_count": 5,
   "metadata": {},
   "outputs": [],
   "source": [
    "files_cifar10 = ['../output/layer_2_densenet_cifar10_cifar10_20190927_092106/results_layer_2_densenet_cifar10_cifar10_20190927_092106.json',\n",
    "                 '../output/layer_2_densenet_cifar10_cifar10_20190927_092108/results_layer_2_densenet_cifar10_cifar10_20190927_092108.json'\n",
    "                 ]\n",
    "files_isun = ['../output/layer_2_densenet_cifar10_isun_20190927_092550/results_layer_2_densenet_cifar10_isun_20190927_092550.json',\n",
    "              '../output/layer_2_densenet_cifar10_isun_20190927_092844/results_layer_2_densenet_cifar10_isun_20190927_092844.json',\n",
    "              ]\n",
    "\n",
    "epochs_list = ['preprocess true', 'preprocess false']"
   ]
  },
  {
   "cell_type": "code",
   "execution_count": 6,
   "metadata": {},
   "outputs": [],
   "source": [
    "files_cifar10 = ['../output/layer_2_densenet_cifar10_cifar10_20190927_092106/results_layer_2_densenet_cifar10_cifar10_20190927_092106.json',\n",
    "                 '../output/layer_2_densenet_cifar10_cifar10_20190927_092108/results_layer_2_densenet_cifar10_cifar10_20190927_092108.json'\n",
    "                 ]\n",
    "files_isun = ['../output/layer_2_densenet_cifar10_isun_20190927_092550/results_layer_2_densenet_cifar10_isun_20190927_092550.json',\n",
    "              '../output/layer_2_densenet_cifar10_isun_20190927_092844/results_layer_2_densenet_cifar10_isun_20190927_092844.json',\n",
    "              ]\n",
    "\n",
    "epochs_list = ['preprocess true', 'preprocess false']"
   ]
  },
  {
   "cell_type": "code",
   "execution_count": 7,
   "metadata": {},
   "outputs": [],
   "source": [
    "\n",
    "# files_cifar10 = ['../output/bathc_1_densenet_cifar10_cifar10_20190928_085719/results_bathc_1_densenet_cifar10_cifar10_20190928_085719.json',\n",
    "#                  '../output/batches_10_densenet_cifar10_cifar10_20190928_091529/results_batches_10_densenet_cifar10_cifar10_20190928_091529.json',\n",
    "#                   '../output/layer_2_densenet_cifar10_cifar10_20190927_092108/results_layer_2_densenet_cifar10_cifar10_20190927_092108.json'\n",
    "#                  ]\n",
    "# files_isun = ['../output/batch_1_densenet_cifar10_isun_20190928_085720/results_batch_1_densenet_cifar10_isun_20190928_085720.json',\n",
    "#               '../output/batches_10_densenet_cifar10_isun_20190928_091530/results_batches_10_densenet_cifar10_isun_20190928_091530.json',\n",
    "#                '../output/layer_2_densenet_cifar10_isun_20190927_092844/results_layer_2_densenet_cifar10_isun_20190927_092844.json'\n",
    "#               ]\n",
    "\n",
    "# epochs_list = ['batch 1', 'batch 10', 'org']"
   ]
  },
  {
   "cell_type": "code",
   "execution_count": 8,
   "metadata": {},
   "outputs": [],
   "source": [
    "files_cifar10 = ['../output/densenet_cifar10_cifar10_20190928_134307/results_*.json',\n",
    "                 '../output/densenet_cifar10_cifar10_20190928_134707/results_*.json',\n",
    "                 '../output/densenet_cifar10_cifar10_20190928_135308/results_*.json'\n",
    "                 ]\n",
    "files_cifar10 = [y for x in files_cifar10 for y in glob(x)]\n",
    "files_isun = ['../output/densenet_cifar10_isun_20190928_134407/results_*.json',\n",
    "              '../output/densenet_cifar10_isun_20190928_135007/results_*.json',\n",
    "              '../output/densenet_cifar10_isun_20190928_135608/results_*.json'\n",
    "              ]\n",
    "files_isun = [y for x in files_isun for y in glob(x)]\n",
    "\n",
    "experimnet_name = 'Two layers 10 batches'"
   ]
  },
  {
   "cell_type": "code",
   "execution_count": 9,
   "metadata": {},
   "outputs": [],
   "source": [
    "files_cifar10 = ['../output/batch_1_densenet_cifar10_cifar10_20190928_164505/results_*.json',\n",
    "                 '../output/batch_1_densenet_cifar10_cifar10_20190928_164906/results_*.json',\n",
    "                 '../output/batch_1_densenet_cifar10_cifar10_20190928_165506/results_*.json'\n",
    "                 ]\n",
    "files_cifar10 = [y for x in files_cifar10 for y in glob(x)]\n",
    "files_isun = ['../output/batch_1_densenet_cifar10_isun_20190928_164605/results_*.json',\n",
    "              '../output/batch_1_densenet_cifar10_isun_20190928_165206/results_*.json',\n",
    "              '../output/batch_1_densenet_cifar10_isun_20190928_165806/results_*.json'\n",
    "              ]\n",
    "files_isun = [y for x in files_isun for y in glob(x)]\n",
    "\n",
    "experimnet_name = 'Two layers 1 batches'"
   ]
  },
  {
   "cell_type": "code",
   "execution_count": 26,
   "metadata": {},
   "outputs": [],
   "source": [
    "files_cifar10 = ['../output/reset_fc_densenet_cifar10_cifar10_*/results_*.json'\n",
    "                 ]\n",
    "files_cifar10 = [y for x in files_cifar10 for y in glob(x)]\n",
    "files_isun = ['../output/reset_fc_densenet_cifar10_isun_*/results_*.json'\n",
    "              ]\n",
    "files_isun = [y for x in files_isun for y in glob(x)]\n",
    "\n",
    "experimnet_name = 'Reset FC. Train 10 ecpohs'\n"
   ]
  },
  {
   "cell_type": "code",
   "execution_count": 29,
   "metadata": {},
   "outputs": [],
   "source": [
    "files_cifar10 = ['../output/fc2_densenet_cifar10_cifar10_*/results_*.json'\n",
    "                 ]\n",
    "files_cifar10 = [y for x in files_cifar10 for y in glob(x)]\n",
    "files_isun = ['../output/fc2_densenet_cifar10_isun_*/results_*.json'\n",
    "              ]\n",
    "files_isun = [y for x in files_isun for y in glob(x)]\n",
    "\n",
    "experimnet_name = 'Added 2 fc layers and reset it'\n"
   ]
  },
  {
   "cell_type": "code",
   "execution_count": 30,
   "metadata": {},
   "outputs": [
    {
     "name": "stdout",
     "output_type": "stream",
     "text": [
      "Added 2 fc layers and reset it\n",
      "\n",
      "Added 2 fc layers and reset it\n",
      "Cifar10: loaded 359 keys. Mean regret 0.124\n",
      "                   nml       erm     genie\n",
      "acc           0.969359  0.116992  0.994429\n",
      "mean loss     0.137148  0.996838  0.012879\n",
      "std loss      0.285717  0.057353  0.148188\n",
      "mean entropy  0.198722  0.996027  0.013030\n",
      "ood 362 keys. Mean regret 0.719\n"
     ]
    },
    {
     "data": {
      "image/png": "[encoded data removed]",
      "text/plain": [
       "<Figure size 460.8x316.8 with 1 Axes>"
      ]
     },
     "metadata": {},
     "output_type": "display_data"
    },
    {
     "name": "stdout",
     "output_type": "stream",
     "text": [
      "        AUROC  AP-In  AP-Out  KL Divergence  KL in P_lamb\n",
      "Regret  0.965   0.97   0.957          4.068         0.735\n"
     ]
    }
   ],
   "source": [
    "ooo_dataset = 'isun'\n",
    "print(experimnet_name)\n",
    "print()\n",
    "\n",
    "ind_df, statistic_cifar10 = load_results_to_df(files_cifar10)\n",
    "ind_df.index = ind_df.index.astype(int)\n",
    "ind_df = ind_df.sort_index()\n",
    "ind_indexes = ind_df.index\n",
    "print('Cifar10: loaded {} keys. Mean regret {:.3f}'.format(\n",
    "    ind_df.shape[0], ind_df['log10_norm_factor'].mean()))\n",
    "print(statistic_cifar10)\n",
    "ood_df, statistic_noise = load_results_to_df(files_isun, is_out_of_dist=True)\n",
    "ood_df.index = ood_df.index.astype(int)\n",
    "ood_df = ood_df.sort_index()\n",
    "ood_indexes = ood_df.index\n",
    "print('ood {} keys. Mean regret {:.3f}' .format(\n",
    "    ood_df.shape[0], ood_df['log10_norm_factor'].mean()))\n",
    "\n",
    "# Reduce to the minumum\n",
    "testset_size = min(len(ind_df), len(ood_df))\n",
    "ind_df = ind_df.loc[:testset_size]\n",
    "ood_df = ood_df.loc[:testset_size]\n",
    "\n",
    "# Regret based\n",
    "y_score_ind = (1-ind_df['log10_norm_factor']).tolist() + \\\n",
    "    (1-ood_df['log10_norm_factor']).tolist()\n",
    "y_true_ind = [True] * ind_df.shape[0] + [False] * ood_df.shape[0]\n",
    "\n",
    "pnml_performance = calc_performance_in_out_dist(y_true_ind, y_score_ind)\n",
    "pnml_performance = pnml_performance.rename(index={0: 'Regret'})\n",
    "\n",
    "y_score_ind_regret = np.array(y_score_ind)\n",
    "y_true_ind_regret = np.array(y_true_ind)\n",
    "\n",
    "# Summary\n",
    "plt.hist(y_score_ind_regret[y_true_ind_regret], label='InDist')\n",
    "plt.hist(y_score_ind_regret[np.logical_not(\n",
    "    y_true_ind_regret)], alpha=0.5, label='OutOfDist')\n",
    "plt.legend()\n",
    "plt.xlim(0, 1)\n",
    "plt.title(experimnet_name)\n",
    "plt.show()\n",
    "\n",
    "print(pnml_performance.round(3))\n"
   ]
  },
  {
   "cell_type": "code",
   "execution_count": 31,
   "metadata": {},
   "outputs": [
    {
     "name": "stdout",
     "output_type": "stream",
     "text": [
      "      AUROC  AP-In  AP-Out  KL Divergence  KL in P_lamb\n",
      "ODIN  0.986  0.987   0.987          1.291         0.142\n"
     ]
    },
    {
     "data": {
      "image/png": "[encoded data removed]",
      "text/plain": [
       "<Figure size 460.8x316.8 with 1 Axes>"
      ]
     },
     "metadata": {},
     "output_type": "display_data"
    }
   ],
   "source": [
    "# Baseline Max prob of ERM\n",
    "ind_df_odin_sub = ind_df_odin.loc[ind_indexes]\n",
    "ood_df_odin_sub = ood_df_odin.loc[ind_indexes]\n",
    "\n",
    "y_score_ind_baseline = ind_df_odin_sub[['erm_' + str(x) for x in range(10)]].max(\n",
    "    axis=1).tolist() + ood_df_odin_sub[['erm_' + str(x) for x in range(10)]].max(axis=1).tolist()\n",
    "y_true_ind_baseline = [\n",
    "    True] * ind_df_odin_sub.shape[0] + [False] * ood_df_odin_sub.shape[0]\n",
    "baseline_performance = calc_performance_in_out_dist(\n",
    "    y_true_ind_baseline, y_score_ind_baseline)\n",
    "baseline_performance = baseline_performance.rename(index={0: 'ODIN'})\n",
    "\n",
    "\n",
    "# Summary\n",
    "print(baseline_performance.round(3))\n",
    "\n",
    "y_score_ind_baseline = np.array(y_score_ind_baseline)\n",
    "y_true_ind_baseline = np.array(y_true_ind_baseline)\n",
    "plt.hist(y_score_ind_baseline[y_true_ind_baseline], label='InDist')\n",
    "plt.hist(y_score_ind_baseline[np.logical_not(\n",
    "    y_true_ind_baseline)], alpha=0.5, label='OutOfDist')\n",
    "plt.legend()\n",
    "plt.title('Baseline')\n",
    "plt.show()\n"
   ]
  },
  {
   "cell_type": "code",
   "execution_count": 32,
   "metadata": {},
   "outputs": [
    {
     "data": {
      "text/plain": [
       "718"
      ]
     },
     "execution_count": 32,
     "metadata": {},
     "output_type": "execute_result"
    }
   ],
   "source": [
    "len(y_score_ind_baseline)"
   ]
  },
  {
   "cell_type": "code",
   "execution_count": 25,
   "metadata": {},
   "outputs": [
    {
     "data": {
      "image/png": "[encoded data removed]",
      "text/plain": [
       "<Figure size 460.8x316.8 with 1 Axes>"
      ]
     },
     "metadata": {},
     "output_type": "display_data"
    }
   ],
   "source": [
    "from sklearn.metrics import roc_curve, auc\n",
    "\n",
    "# Compute ROC curve and ROC area for each class\n",
    "y_score = y_score_ind_baseline\n",
    "y_test = y_true_ind_baseline\n",
    "\n",
    "fpr = dict()\n",
    "tpr = dict()\n",
    "roc_auc = dict()\n",
    "\n",
    "# for i in range(n_classes):\n",
    "i = 0\n",
    "fpr[i], tpr[i], _ = roc_curve(y_true_ind_baseline, y_score_ind_baseline)\n",
    "roc_auc[i] = auc(fpr[i], tpr[i])\n",
    "i = 1\n",
    "fpr[i], tpr[i], _ = roc_curve(y_true_ind_regret, y_score_ind_regret)\n",
    "roc_auc[i] = auc(fpr[i], tpr[i])\n",
    "\n",
    "\n",
    "plt.figure()\n",
    "lw = 2\n",
    "plt.plot(fpr[0], tpr[0],\n",
    "         lw=lw, label='Baseline area = %0.2f' % roc_auc[0])\n",
    "plt.plot(fpr[1], tpr[1],\n",
    "         lw=lw, label='pNML area = %0.2f' % roc_auc[1])\n",
    "plt.xlim([0.0, 1.0])\n",
    "plt.ylim([0.0, 1.05])\n",
    "plt.xlabel('False Positive Rate')\n",
    "plt.ylabel('True Positive Rate')\n",
    "plt.title('ROC')\n",
    "plt.legend(loc=\"lower right\")\n",
    "plt.show()\n"
   ]
  },
  {
   "cell_type": "markdown",
   "metadata": {},
   "source": [
    "# ODIN Original results"
   ]
  },
  {
   "cell_type": "code",
   "execution_count": null,
   "metadata": {},
   "outputs": [],
   "source": [
    "file_in = '/Users/kobibi/WorkDocs/pnml_ood/output/softmax_scores/confidence_Our_In.txt'\n",
    "file_out = '/Users/kobibi/WorkDocs/pnml_ood/output/softmax_scores/confidence_Our_Out.txt'\n",
    "data_ind = pd.read_csv(file_in, sep=\" \", header=None)\n",
    "data_ind.columns = [\"temperature\", \"epsilon\", \"score\"]\n",
    "\n",
    "data_ood = pd.read_csv(file_out, sep=\" \", header=None)\n",
    "data_ood.columns = [\"temperature\", \"epsilon\", \"score\"]\n",
    "\n",
    "ind_score = data_ind['score'].tolist()\n",
    "ood_score = data_ood['score'].tolist()\n",
    "\n",
    "y_score_ind = ind_score + ood_score\n",
    "y_true_ind = [True] * len(ind_score) + [False] * len(ood_score)\n",
    "baseline_performance = calc_performance_in_out_dist(y_true_ind, y_score_ind)\n",
    "\n",
    "y_score_ind = np.array(y_score_ind)\n",
    "y_true_ind = np.array(y_true_ind)\n",
    "\n",
    "print('ODIN:')\n",
    "print(baseline_performance.round(3))\n",
    "\n",
    "bins = 100\n",
    "plt.hist(y_score_ind[y_true_ind], bins=bins, label='InDist')\n",
    "plt.hist(y_score_ind[np.logical_not(y_true_ind)],alpha=0.5, bins=bins,  label='InDist')\n",
    "plt.title('ODIN Baseline')\n",
    "plt.legend()\n",
    "plt.show()\n"
   ]
  },
  {
   "cell_type": "code",
   "execution_count": null,
   "metadata": {},
   "outputs": [],
   "source": []
  }
 ],
 "metadata": {
  "kernelspec": {
   "display_name": "Python 3",
   "language": "python",
   "name": "python3"
  },
  "language_info": {
   "codemirror_mode": {
    "name": "ipython",
    "version": 3
   },
   "file_extension": ".py",
   "mimetype": "text/x-python",
   "name": "python",
   "nbconvert_exporter": "python",
   "pygments_lexer": "ipython3",
   "version": "3.6.9"
  }
 },
 "nbformat": 4,
 "nbformat_minor": 4
}
